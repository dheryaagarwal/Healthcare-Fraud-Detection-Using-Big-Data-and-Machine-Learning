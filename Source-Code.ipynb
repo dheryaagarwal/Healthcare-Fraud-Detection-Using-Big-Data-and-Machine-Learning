{
 "cells": [
  {
   "cell_type": "markdown",
   "metadata": {
    "id": "Py6D_E0a_Fwp"
   },
   "source": [
    "# Installing Pyspark"
   ]
  },
  {
   "cell_type": "markdown",
   "metadata": {},
   "source": [
    "Dataset Link - https://drive.google.com/file/d/1IRbqa-5_t9CIHvRRfDQrWFfzMr_sTZwT/view?usp=drive_link"
   ]
  },
  {
   "cell_type": "code",
   "execution_count": null,
   "metadata": {
    "colab": {
     "base_uri": "https://localhost:8080/"
    },
    "id": "I5rmPXN-gBI_",
    "outputId": "bf9ef4e4-2b7c-441d-ed98-6902b459263f"
   },
   "outputs": [
    {
     "name": "stdout",
     "output_type": "stream",
     "text": [
      "Requirement already satisfied: pyspark in /Library/Frameworks/Python.framework/Versions/3.12/lib/python3.12/site-packages (3.5.3)\n",
      "Requirement already satisfied: py4j==0.10.9.7 in /Library/Frameworks/Python.framework/Versions/3.12/lib/python3.12/site-packages (from pyspark) (0.10.9.7)\n",
      "\n",
      "\u001b[1m[\u001b[0m\u001b[34;49mnotice\u001b[0m\u001b[1;39;49m]\u001b[0m\u001b[39;49m A new release of pip is available: \u001b[0m\u001b[31;49m24.0\u001b[0m\u001b[39;49m -> \u001b[0m\u001b[32;49m24.3.1\u001b[0m\n",
      "\u001b[1m[\u001b[0m\u001b[34;49mnotice\u001b[0m\u001b[1;39;49m]\u001b[0m\u001b[39;49m To update, run: \u001b[0m\u001b[32;49mpip3 install --upgrade pip\u001b[0m\n"
     ]
    }
   ],
   "source": [
    "!pip3 install pyspark"
   ]
  },
  {
   "cell_type": "markdown",
   "metadata": {
    "id": "CJyXLY26_L5a"
   },
   "source": [
    "# Creating a SparkSession"
   ]
  },
  {
   "cell_type": "code",
   "execution_count": null,
   "metadata": {
    "colab": {
     "background_save": true
    },
    "id": "FzIeUNw3gZjw",
    "outputId": "a3701a6e-0f0c-4fed-d42a-02215a63c2b1"
   },
   "outputs": [
    {
     "name": "stderr",
     "output_type": "stream",
     "text": [
      "24/12/09 22:56:37 WARN Utils: Your hostname, Dheryas-MacBook-Pro.local resolves to a loopback address: 127.0.0.1; using 192.168.0.114 instead (on interface en0)\n",
      "24/12/09 22:56:37 WARN Utils: Set SPARK_LOCAL_IP if you need to bind to another address\n",
      "Setting default log level to \"WARN\".\n",
      "To adjust logging level use sc.setLogLevel(newLevel). For SparkR, use setLogLevel(newLevel).\n",
      "24/12/09 22:56:38 WARN NativeCodeLoader: Unable to load native-hadoop library for your platform... using builtin-java classes where applicable\n"
     ]
    }
   ],
   "source": [
    "from pyspark.sql import SparkSession\n",
    "spark = SparkSession.builder.master(\"local[*]\").appName(\"HealthCareFraud\").getOrCreate()\n"
   ]
  },
  {
   "cell_type": "markdown",
   "metadata": {
    "id": "H7PsDyPO_SlW"
   },
   "source": [
    "# Loading the Dataset"
   ]
  },
  {
   "cell_type": "code",
   "execution_count": null,
   "metadata": {
    "colab": {
     "background_save": true
    },
    "id": "3rD1QAKsgl0c",
    "outputId": "a629e9e9-601a-4663-8f84-d4f102434419"
   },
   "outputs": [
    {
     "name": "stderr",
     "output_type": "stream",
     "text": [
      "24/12/09 22:56:50 WARN GarbageCollectionMetrics: To enable non-built-in garbage collector(s) List(G1 Concurrent GC), users should configure it(them) to spark.eventLog.gcMetrics.youngGenerationGarbageCollectors or spark.eventLog.gcMetrics.oldGenerationGarbageCollectors\n",
      "                                                                                \r"
     ]
    },
    {
     "name": "stdout",
     "output_type": "stream",
     "text": [
      "root\n",
      " |-- Prscrbr_NPI: integer (nullable = true)\n",
      " |-- Prscrbr_Last_Org_Name: string (nullable = true)\n",
      " |-- Prscrbr_First_Name: string (nullable = true)\n",
      " |-- Prscrbr_City: string (nullable = true)\n",
      " |-- Prscrbr_State_Abrvtn: string (nullable = true)\n",
      " |-- Prscrbr_State_FIPS: string (nullable = true)\n",
      " |-- Prscrbr_Type: string (nullable = true)\n",
      " |-- Prscrbr_Type_Src: string (nullable = true)\n",
      " |-- Brnd_Name: string (nullable = true)\n",
      " |-- Gnrc_Name: string (nullable = true)\n",
      " |-- Tot_Clms: integer (nullable = true)\n",
      " |-- Tot_30day_Fills: double (nullable = true)\n",
      " |-- Tot_Day_Suply: integer (nullable = true)\n",
      " |-- Tot_Drug_Cst: double (nullable = true)\n",
      " |-- Tot_Benes: integer (nullable = true)\n",
      " |-- GE65_Sprsn_Flag: string (nullable = true)\n",
      " |-- GE65_Tot_Clms: integer (nullable = true)\n",
      " |-- GE65_Tot_30day_Fills: double (nullable = true)\n",
      " |-- GE65_Tot_Drug_Cst: double (nullable = true)\n",
      " |-- GE65_Tot_Day_Suply: integer (nullable = true)\n",
      " |-- GE65_Bene_Sprsn_Flag: string (nullable = true)\n",
      " |-- GE65_Tot_Benes: integer (nullable = true)\n",
      "\n",
      "+-----------+---------------------+------------------+------------+--------------------+------------------+-----------------+----------------+--------------------+--------------------+--------+---------------+-------------+------------+---------+---------------+-------------+--------------------+-----------------+------------------+--------------------+--------------+\n",
      "|Prscrbr_NPI|Prscrbr_Last_Org_Name|Prscrbr_First_Name|Prscrbr_City|Prscrbr_State_Abrvtn|Prscrbr_State_FIPS|     Prscrbr_Type|Prscrbr_Type_Src|           Brnd_Name|           Gnrc_Name|Tot_Clms|Tot_30day_Fills|Tot_Day_Suply|Tot_Drug_Cst|Tot_Benes|GE65_Sprsn_Flag|GE65_Tot_Clms|GE65_Tot_30day_Fills|GE65_Tot_Drug_Cst|GE65_Tot_Day_Suply|GE65_Bene_Sprsn_Flag|GE65_Tot_Benes|\n",
      "+-----------+---------------------+------------------+------------+--------------------+------------------+-----------------+----------------+--------------------+--------------------+--------+---------------+-------------+------------+---------+---------------+-------------+--------------------+-----------------+------------------+--------------------+--------------+\n",
      "| 1003000126|            Enkeshafi|           Ardalan|    Bethesda|                  MD|                24|Internal Medicine| Claim-Specialty| Amlodipine Besylate| Amlodipine Besylate|      19|           41.0|         1230|      246.17|       14|           NULL|           19|                41.0|           246.17|              1230|                NULL|            14|\n",
      "| 1003000126|            Enkeshafi|           Ardalan|    Bethesda|                  MD|                24|Internal Medicine| Claim-Specialty|Atorvastatin Calcium|Atorvastatin Calcium|      11|           29.0|          870|      286.69|     NULL|           NULL|           11|                29.0|           286.69|               870|                   *|          NULL|\n",
      "| 1003000126|            Enkeshafi|           Ardalan|    Bethesda|                  MD|                24|Internal Medicine| Claim-Specialty|             Eliquis|            Apixaban|      15|           17.0|          508|     9503.53|     NULL|           NULL|           15|                17.0|          9503.53|               508|                   *|          NULL|\n",
      "| 1003000126|            Enkeshafi|           Ardalan|    Bethesda|                  MD|                24|Internal Medicine| Claim-Specialty|Escitalopram Oxalate|Escitalopram Oxalate|      16|           26.2|          783|      277.71|     NULL|           NULL|           16|                26.2|           277.71|               783|                   *|          NULL|\n",
      "| 1003000126|            Enkeshafi|           Ardalan|    Bethesda|                  MD|                24|Internal Medicine| Claim-Specialty| Hydrochlorothiazide| Hydrochlorothiazide|      12|           18.1|          542|       68.18|     NULL|              #|         NULL|                NULL|             NULL|              NULL|                   *|          NULL|\n",
      "+-----------+---------------------+------------------+------------+--------------------+------------------+-----------------+----------------+--------------------+--------------------+--------+---------------+-------------+------------+---------+---------------+-------------+--------------------+-----------------+------------------+--------------------+--------------+\n",
      "only showing top 5 rows\n",
      "\n"
     ]
    }
   ],
   "source": [
    "data_path = '/Users/dherya.agarwal/Downloads/Medicare_Part_D_Prescribers_by_Provider_and_Drug_2022.csv'\n",
    "# Load the dataset\n",
    "df = spark.read.csv(data_path, header=True, inferSchema=True)\n",
    "\n",
    "# Show the schema and a sample of the data\n",
    "df.printSchema()\n",
    "df.show(5)"
   ]
  },
  {
   "cell_type": "markdown",
   "metadata": {
    "id": "3WTBg-rO_fE8"
   },
   "source": [
    "# Calculating Total Claims by State"
   ]
  },
  {
   "cell_type": "code",
   "execution_count": null,
   "metadata": {
    "colab": {
     "background_save": true
    },
    "id": "LHcp-b6xhsen",
    "outputId": "20e2d503-d680-47c8-ee15-372ca501695f"
   },
   "outputs": [
    {
     "name": "stderr",
     "output_type": "stream",
     "text": [
      "[Stage 3:==================================================>      (25 + 3) / 28]\r"
     ]
    },
    {
     "name": "stdout",
     "output_type": "stream",
     "text": [
      "+--------------------+--------------------+\n",
      "|Prscrbr_State_Abrvtn|total_claim_millions|\n",
      "+--------------------+--------------------+\n",
      "|                  CA|               120.0|\n",
      "|                  FL|               103.0|\n",
      "|                  TX|                88.0|\n",
      "|                  NY|                86.0|\n",
      "|                  PA|                66.0|\n",
      "|                  OH|                56.0|\n",
      "|                  NC|                47.0|\n",
      "|                  IL|                46.0|\n",
      "|                  MI|                45.0|\n",
      "|                  GA|                42.0|\n",
      "|                  TN|                36.0|\n",
      "|                  MO|                32.0|\n",
      "|                  NJ|                32.0|\n",
      "|                  IN|                31.0|\n",
      "|                  MA|                30.0|\n",
      "|                  PR|                28.0|\n",
      "|                  VA|                27.0|\n",
      "|                  KY|                27.0|\n",
      "|                  AL|                26.0|\n",
      "|                  WI|                24.0|\n",
      "+--------------------+--------------------+\n",
      "only showing top 20 rows\n",
      "\n"
     ]
    },
    {
     "name": "stderr",
     "output_type": "stream",
     "text": [
      "                                                                                \r"
     ]
    }
   ],
   "source": [
    "from pyspark.sql.functions import col, sum, round, countDistinct, max, variance\n",
    "\n",
    "# Calculate total claims made by state of prescribers\n",
    "claims_by_state = (\n",
    "    df.groupBy(\"Prscrbr_State_Abrvtn\")  # Group by state abbreviation\n",
    "      .agg(\n",
    "          round(sum(\"Tot_Clms\") / 1e6, 0).alias(\"total_claim_millions\")  # Sum up total claims in millions\n",
    "      )\n",
    "      .orderBy(col(\"total_claim_millions\").desc())  # Order by total claims in descending order\n",
    ")\n",
    "\n",
    "# Show the results\n",
    "claims_by_state.show()\n"
   ]
  },
  {
   "cell_type": "markdown",
   "metadata": {
    "id": "ASZWoEwh_uOt"
   },
   "source": [
    "# Interpretation\n",
    "\n",
    "\n",
    "*   California (CA) has the highest total claims at 120 million.\n",
    "\n",
    "*   Florida (FL) and Texas (TX) follow with 103 million and 88 million claims respectively.\n",
    "*   The data provides a clear breakdown of Medicare Part D claims by state, helping identify regions with the highest prescription activity which can be used to further investigate potential healthcare fraud\n",
    "\n",
    "\n",
    "\n"
   ]
  },
  {
   "cell_type": "markdown",
   "metadata": {
    "id": "s9XOVNP9Em4Y"
   },
   "source": [
    "# Collecting Data as a List of Dictionaries"
   ]
  },
  {
   "cell_type": "code",
   "execution_count": null,
   "metadata": {
    "colab": {
     "background_save": true
    },
    "id": "1zfDiCgnicuW",
    "outputId": "7d1e867d-7426-4095-ac7a-ee787d377339"
   },
   "outputs": [
    {
     "name": "stderr",
     "output_type": "stream",
     "text": [
      "                                                                                \r"
     ]
    }
   ],
   "source": [
    "# Collect data as a list of dictionaries\n",
    "collected_data = claims_by_state.collect()\n",
    "data_dict = [row.asDict() for row in collected_data]"
   ]
  },
  {
   "cell_type": "markdown",
   "metadata": {
    "id": "EJ4YGG1_Ext0"
   },
   "source": [
    "# Creating a Choropleth Map with Plotly"
   ]
  },
  {
   "cell_type": "code",
   "execution_count": null,
   "metadata": {
    "colab": {
     "background_save": true
    },
    "id": "e9llUVzDjClK",
    "outputId": "98ff3a3c-1294-4c40-c54e-4f684bb6259d"
   },
   "outputs": [
    {
     "data": {
      "application/vnd.plotly.v1+json": {
       "config": {
        "linkText": "Export to plot.ly",
        "plotlyServerURL": "https://plot.ly",
        "showLink": false
       },
       "data": [
        {
         "autocolorscale": false,
         "colorbar": {
          "title": {
           "text": "Total Claims in Millions"
          }
         },
         "colorscale": [
          [
           0,
           "rgb(255,248,206)"
          ],
          [
           0.2,
           "rgb(255,203,205)"
          ],
          [
           0.4,
           "rgb(255,155,164)"
          ],
          [
           0.6,
           "rgb(255,79,178)"
          ],
          [
           0.8,
           "rgb(183,15,132)"
          ],
          [
           1,
           "#008059"
          ]
         ],
         "locationmode": "USA-states",
         "locations": [
          "CA",
          "FL",
          "TX",
          "NY",
          "PA",
          "OH",
          "NC",
          "IL",
          "MI",
          "GA",
          "TN",
          "NJ",
          "MO",
          "IN",
          "MA",
          "PR",
          "VA",
          "KY",
          "AL",
          "LA",
          "WI",
          "SC",
          "AZ",
          "WA",
          "MN",
          "MD",
          "AR",
          "OK",
          "OR",
          "CT",
          "MS",
          "IA",
          "CO",
          "KS",
          "WV",
          "NV",
          "NE",
          "UT",
          "ID",
          "ME",
          "NM",
          "RI",
          "NH",
          "MT",
          "DE",
          "SD",
          "HI",
          "ND",
          "DC",
          "WY",
          "VT",
          "AK",
          "ZZ",
          "VI",
          "GU",
          "AP",
          "MP",
          "AA",
          "XX",
          "AE",
          "AS"
         ],
         "marker": {
          "line": {
           "color": "rgb(255,255,255)",
           "width": 2
          }
         },
         "text": [
          "CA",
          "FL",
          "TX",
          "NY",
          "PA",
          "OH",
          "NC",
          "IL",
          "MI",
          "GA",
          "TN",
          "NJ",
          "MO",
          "IN",
          "MA",
          "PR",
          "VA",
          "KY",
          "AL",
          "LA",
          "WI",
          "SC",
          "AZ",
          "WA",
          "MN",
          "MD",
          "AR",
          "OK",
          "OR",
          "CT",
          "MS",
          "IA",
          "CO",
          "KS",
          "WV",
          "NV",
          "NE",
          "UT",
          "ID",
          "ME",
          "NM",
          "RI",
          "NH",
          "MT",
          "DE",
          "SD",
          "HI",
          "ND",
          "DC",
          "WY",
          "VT",
          "AK",
          "ZZ",
          "VI",
          "GU",
          "AP",
          "MP",
          "AA",
          "XX",
          "AE",
          "AS"
         ],
         "type": "choropleth",
         "z": [
          120,
          103,
          88,
          86,
          66,
          56,
          47,
          46,
          45,
          42,
          36,
          32,
          32,
          31,
          30,
          28,
          27,
          27,
          26,
          24,
          24,
          23,
          23,
          22,
          21,
          17,
          16,
          16,
          15,
          15,
          15,
          15,
          15,
          13,
          10,
          9,
          9,
          7,
          6,
          6,
          6,
          5,
          5,
          4,
          4,
          4,
          4,
          3,
          2,
          2,
          2,
          1,
          0,
          0,
          0,
          0,
          0,
          0,
          0,
          0,
          0
         ]
        }
       ],
       "layout": {
        "geo": {
         "lakecolor": "rgb(255, 255, 255)",
         "projection": {
          "type": "albers usa"
         },
         "scope": "usa",
         "showlakes": true
        },
        "template": {
         "data": {
          "bar": [
           {
            "error_x": {
             "color": "#2a3f5f"
            },
            "error_y": {
             "color": "#2a3f5f"
            },
            "marker": {
             "line": {
              "color": "#E5ECF6",
              "width": 0.5
             },
             "pattern": {
              "fillmode": "overlay",
              "size": 10,
              "solidity": 0.2
             }
            },
            "type": "bar"
           }
          ],
          "barpolar": [
           {
            "marker": {
             "line": {
              "color": "#E5ECF6",
              "width": 0.5
             },
             "pattern": {
              "fillmode": "overlay",
              "size": 10,
              "solidity": 0.2
             }
            },
            "type": "barpolar"
           }
          ],
          "carpet": [
           {
            "aaxis": {
             "endlinecolor": "#2a3f5f",
             "gridcolor": "white",
             "linecolor": "white",
             "minorgridcolor": "white",
             "startlinecolor": "#2a3f5f"
            },
            "baxis": {
             "endlinecolor": "#2a3f5f",
             "gridcolor": "white",
             "linecolor": "white",
             "minorgridcolor": "white",
             "startlinecolor": "#2a3f5f"
            },
            "type": "carpet"
           }
          ],
          "choropleth": [
           {
            "colorbar": {
             "outlinewidth": 0,
             "ticks": ""
            },
            "type": "choropleth"
           }
          ],
          "contour": [
           {
            "colorbar": {
             "outlinewidth": 0,
             "ticks": ""
            },
            "colorscale": [
             [
              0,
              "#0d0887"
             ],
             [
              0.1111111111111111,
              "#46039f"
             ],
             [
              0.2222222222222222,
              "#7201a8"
             ],
             [
              0.3333333333333333,
              "#9c179e"
             ],
             [
              0.4444444444444444,
              "#bd3786"
             ],
             [
              0.5555555555555556,
              "#d8576b"
             ],
             [
              0.6666666666666666,
              "#ed7953"
             ],
             [
              0.7777777777777778,
              "#fb9f3a"
             ],
             [
              0.8888888888888888,
              "#fdca26"
             ],
             [
              1,
              "#f0f921"
             ]
            ],
            "type": "contour"
           }
          ],
          "contourcarpet": [
           {
            "colorbar": {
             "outlinewidth": 0,
             "ticks": ""
            },
            "type": "contourcarpet"
           }
          ],
          "heatmap": [
           {
            "colorbar": {
             "outlinewidth": 0,
             "ticks": ""
            },
            "colorscale": [
             [
              0,
              "#0d0887"
             ],
             [
              0.1111111111111111,
              "#46039f"
             ],
             [
              0.2222222222222222,
              "#7201a8"
             ],
             [
              0.3333333333333333,
              "#9c179e"
             ],
             [
              0.4444444444444444,
              "#bd3786"
             ],
             [
              0.5555555555555556,
              "#d8576b"
             ],
             [
              0.6666666666666666,
              "#ed7953"
             ],
             [
              0.7777777777777778,
              "#fb9f3a"
             ],
             [
              0.8888888888888888,
              "#fdca26"
             ],
             [
              1,
              "#f0f921"
             ]
            ],
            "type": "heatmap"
           }
          ],
          "heatmapgl": [
           {
            "colorbar": {
             "outlinewidth": 0,
             "ticks": ""
            },
            "colorscale": [
             [
              0,
              "#0d0887"
             ],
             [
              0.1111111111111111,
              "#46039f"
             ],
             [
              0.2222222222222222,
              "#7201a8"
             ],
             [
              0.3333333333333333,
              "#9c179e"
             ],
             [
              0.4444444444444444,
              "#bd3786"
             ],
             [
              0.5555555555555556,
              "#d8576b"
             ],
             [
              0.6666666666666666,
              "#ed7953"
             ],
             [
              0.7777777777777778,
              "#fb9f3a"
             ],
             [
              0.8888888888888888,
              "#fdca26"
             ],
             [
              1,
              "#f0f921"
             ]
            ],
            "type": "heatmapgl"
           }
          ],
          "histogram": [
           {
            "marker": {
             "pattern": {
              "fillmode": "overlay",
              "size": 10,
              "solidity": 0.2
             }
            },
            "type": "histogram"
           }
          ],
          "histogram2d": [
           {
            "colorbar": {
             "outlinewidth": 0,
             "ticks": ""
            },
            "colorscale": [
             [
              0,
              "#0d0887"
             ],
             [
              0.1111111111111111,
              "#46039f"
             ],
             [
              0.2222222222222222,
              "#7201a8"
             ],
             [
              0.3333333333333333,
              "#9c179e"
             ],
             [
              0.4444444444444444,
              "#bd3786"
             ],
             [
              0.5555555555555556,
              "#d8576b"
             ],
             [
              0.6666666666666666,
              "#ed7953"
             ],
             [
              0.7777777777777778,
              "#fb9f3a"
             ],
             [
              0.8888888888888888,
              "#fdca26"
             ],
             [
              1,
              "#f0f921"
             ]
            ],
            "type": "histogram2d"
           }
          ],
          "histogram2dcontour": [
           {
            "colorbar": {
             "outlinewidth": 0,
             "ticks": ""
            },
            "colorscale": [
             [
              0,
              "#0d0887"
             ],
             [
              0.1111111111111111,
              "#46039f"
             ],
             [
              0.2222222222222222,
              "#7201a8"
             ],
             [
              0.3333333333333333,
              "#9c179e"
             ],
             [
              0.4444444444444444,
              "#bd3786"
             ],
             [
              0.5555555555555556,
              "#d8576b"
             ],
             [
              0.6666666666666666,
              "#ed7953"
             ],
             [
              0.7777777777777778,
              "#fb9f3a"
             ],
             [
              0.8888888888888888,
              "#fdca26"
             ],
             [
              1,
              "#f0f921"
             ]
            ],
            "type": "histogram2dcontour"
           }
          ],
          "mesh3d": [
           {
            "colorbar": {
             "outlinewidth": 0,
             "ticks": ""
            },
            "type": "mesh3d"
           }
          ],
          "parcoords": [
           {
            "line": {
             "colorbar": {
              "outlinewidth": 0,
              "ticks": ""
             }
            },
            "type": "parcoords"
           }
          ],
          "pie": [
           {
            "automargin": true,
            "type": "pie"
           }
          ],
          "scatter": [
           {
            "fillpattern": {
             "fillmode": "overlay",
             "size": 10,
             "solidity": 0.2
            },
            "type": "scatter"
           }
          ],
          "scatter3d": [
           {
            "line": {
             "colorbar": {
              "outlinewidth": 0,
              "ticks": ""
             }
            },
            "marker": {
             "colorbar": {
              "outlinewidth": 0,
              "ticks": ""
             }
            },
            "type": "scatter3d"
           }
          ],
          "scattercarpet": [
           {
            "marker": {
             "colorbar": {
              "outlinewidth": 0,
              "ticks": ""
             }
            },
            "type": "scattercarpet"
           }
          ],
          "scattergeo": [
           {
            "marker": {
             "colorbar": {
              "outlinewidth": 0,
              "ticks": ""
             }
            },
            "type": "scattergeo"
           }
          ],
          "scattergl": [
           {
            "marker": {
             "colorbar": {
              "outlinewidth": 0,
              "ticks": ""
             }
            },
            "type": "scattergl"
           }
          ],
          "scattermapbox": [
           {
            "marker": {
             "colorbar": {
              "outlinewidth": 0,
              "ticks": ""
             }
            },
            "type": "scattermapbox"
           }
          ],
          "scatterpolar": [
           {
            "marker": {
             "colorbar": {
              "outlinewidth": 0,
              "ticks": ""
             }
            },
            "type": "scatterpolar"
           }
          ],
          "scatterpolargl": [
           {
            "marker": {
             "colorbar": {
              "outlinewidth": 0,
              "ticks": ""
             }
            },
            "type": "scatterpolargl"
           }
          ],
          "scatterternary": [
           {
            "marker": {
             "colorbar": {
              "outlinewidth": 0,
              "ticks": ""
             }
            },
            "type": "scatterternary"
           }
          ],
          "surface": [
           {
            "colorbar": {
             "outlinewidth": 0,
             "ticks": ""
            },
            "colorscale": [
             [
              0,
              "#0d0887"
             ],
             [
              0.1111111111111111,
              "#46039f"
             ],
             [
              0.2222222222222222,
              "#7201a8"
             ],
             [
              0.3333333333333333,
              "#9c179e"
             ],
             [
              0.4444444444444444,
              "#bd3786"
             ],
             [
              0.5555555555555556,
              "#d8576b"
             ],
             [
              0.6666666666666666,
              "#ed7953"
             ],
             [
              0.7777777777777778,
              "#fb9f3a"
             ],
             [
              0.8888888888888888,
              "#fdca26"
             ],
             [
              1,
              "#f0f921"
             ]
            ],
            "type": "surface"
           }
          ],
          "table": [
           {
            "cells": {
             "fill": {
              "color": "#EBF0F8"
             },
             "line": {
              "color": "white"
             }
            },
            "header": {
             "fill": {
              "color": "#C8D4E3"
             },
             "line": {
              "color": "white"
             }
            },
            "type": "table"
           }
          ]
         },
         "layout": {
          "annotationdefaults": {
           "arrowcolor": "#2a3f5f",
           "arrowhead": 0,
           "arrowwidth": 1
          },
          "autotypenumbers": "strict",
          "coloraxis": {
           "colorbar": {
            "outlinewidth": 0,
            "ticks": ""
           }
          },
          "colorscale": {
           "diverging": [
            [
             0,
             "#8e0152"
            ],
            [
             0.1,
             "#c51b7d"
            ],
            [
             0.2,
             "#de77ae"
            ],
            [
             0.3,
             "#f1b6da"
            ],
            [
             0.4,
             "#fde0ef"
            ],
            [
             0.5,
             "#f7f7f7"
            ],
            [
             0.6,
             "#e6f5d0"
            ],
            [
             0.7,
             "#b8e186"
            ],
            [
             0.8,
             "#7fbc41"
            ],
            [
             0.9,
             "#4d9221"
            ],
            [
             1,
             "#276419"
            ]
           ],
           "sequential": [
            [
             0,
             "#0d0887"
            ],
            [
             0.1111111111111111,
             "#46039f"
            ],
            [
             0.2222222222222222,
             "#7201a8"
            ],
            [
             0.3333333333333333,
             "#9c179e"
            ],
            [
             0.4444444444444444,
             "#bd3786"
            ],
            [
             0.5555555555555556,
             "#d8576b"
            ],
            [
             0.6666666666666666,
             "#ed7953"
            ],
            [
             0.7777777777777778,
             "#fb9f3a"
            ],
            [
             0.8888888888888888,
             "#fdca26"
            ],
            [
             1,
             "#f0f921"
            ]
           ],
           "sequentialminus": [
            [
             0,
             "#0d0887"
            ],
            [
             0.1111111111111111,
             "#46039f"
            ],
            [
             0.2222222222222222,
             "#7201a8"
            ],
            [
             0.3333333333333333,
             "#9c179e"
            ],
            [
             0.4444444444444444,
             "#bd3786"
            ],
            [
             0.5555555555555556,
             "#d8576b"
            ],
            [
             0.6666666666666666,
             "#ed7953"
            ],
            [
             0.7777777777777778,
             "#fb9f3a"
            ],
            [
             0.8888888888888888,
             "#fdca26"
            ],
            [
             1,
             "#f0f921"
            ]
           ]
          },
          "colorway": [
           "#636efa",
           "#EF553B",
           "#00cc96",
           "#ab63fa",
           "#FFA15A",
           "#19d3f3",
           "#FF6692",
           "#B6E880",
           "#FF97FF",
           "#FECB52"
          ],
          "font": {
           "color": "#2a3f5f"
          },
          "geo": {
           "bgcolor": "white",
           "lakecolor": "white",
           "landcolor": "#E5ECF6",
           "showlakes": true,
           "showland": true,
           "subunitcolor": "white"
          },
          "hoverlabel": {
           "align": "left"
          },
          "hovermode": "closest",
          "mapbox": {
           "style": "light"
          },
          "paper_bgcolor": "white",
          "plot_bgcolor": "#E5ECF6",
          "polar": {
           "angularaxis": {
            "gridcolor": "white",
            "linecolor": "white",
            "ticks": ""
           },
           "bgcolor": "#E5ECF6",
           "radialaxis": {
            "gridcolor": "white",
            "linecolor": "white",
            "ticks": ""
           }
          },
          "scene": {
           "xaxis": {
            "backgroundcolor": "#E5ECF6",
            "gridcolor": "white",
            "gridwidth": 2,
            "linecolor": "white",
            "showbackground": true,
            "ticks": "",
            "zerolinecolor": "white"
           },
           "yaxis": {
            "backgroundcolor": "#E5ECF6",
            "gridcolor": "white",
            "gridwidth": 2,
            "linecolor": "white",
            "showbackground": true,
            "ticks": "",
            "zerolinecolor": "white"
           },
           "zaxis": {
            "backgroundcolor": "#E5ECF6",
            "gridcolor": "white",
            "gridwidth": 2,
            "linecolor": "white",
            "showbackground": true,
            "ticks": "",
            "zerolinecolor": "white"
           }
          },
          "shapedefaults": {
           "line": {
            "color": "#2a3f5f"
           }
          },
          "ternary": {
           "aaxis": {
            "gridcolor": "white",
            "linecolor": "white",
            "ticks": ""
           },
           "baxis": {
            "gridcolor": "white",
            "linecolor": "white",
            "ticks": ""
           },
           "bgcolor": "#E5ECF6",
           "caxis": {
            "gridcolor": "white",
            "linecolor": "white",
            "ticks": ""
           }
          },
          "title": {
           "x": 0.05
          },
          "xaxis": {
           "automargin": true,
           "gridcolor": "white",
           "linecolor": "white",
           "ticks": "",
           "title": {
            "standoff": 15
           },
           "zerolinecolor": "white",
           "zerolinewidth": 2
          },
          "yaxis": {
           "automargin": true,
           "gridcolor": "white",
           "linecolor": "white",
           "ticks": "",
           "title": {
            "standoff": 15
           },
           "zerolinecolor": "white",
           "zerolinewidth": 2
          }
         }
        },
        "title": {
         "text": "Total Claims in Different States (in Millions)"
        }
       }
      }
     },
     "metadata": {},
     "output_type": "display_data"
    }
   ],
   "source": [
    "import plotly.graph_objs as go\n",
    "from plotly.offline import iplot\n",
    "\n",
    "# Color scale for the choropleth map\n",
    "scl = [\n",
    "    [0.0, 'rgb(255,248,206)'], [0.2, 'rgb(255,203,205)'],\n",
    "    [0.4, 'rgb(255,155,164)'], [0.6, 'rgb(255,79,178)'],\n",
    "    [0.8, 'rgb(183,15,132)'], [1, '#008059']\n",
    "]\n",
    "\n",
    "# Creating the data for the map\n",
    "data = [\n",
    "    dict(\n",
    "        type='choropleth',\n",
    "        colorscale=scl,\n",
    "        autocolorscale=False,\n",
    "        locations=[d['Prscrbr_State_Abrvtn'] for d in data_dict],\n",
    "        z=[d['total_claim_millions'] for d in data_dict],\n",
    "        locationmode='USA-states',\n",
    "        text=[d['Prscrbr_State_Abrvtn'] for d in data_dict],\n",
    "        marker=dict(\n",
    "            line=dict(color='rgb(255,255,255)', width=2)\n",
    "        ),\n",
    "        colorbar=dict(title=\"Total Claims in Millions\")\n",
    "    )\n",
    "]\n",
    "\n",
    "# Layout for the map\n",
    "layout = dict(\n",
    "    title='Total Claims in Different States (in Millions)',\n",
    "    geo=dict(\n",
    "        scope='usa',\n",
    "        projection=dict(type='albers usa'),\n",
    "        showlakes=True,\n",
    "        lakecolor='rgb(255, 255, 255)'\n",
    "    )\n",
    ")\n",
    "\n",
    "# Generating the figure\n",
    "fig = dict(data=data, layout=layout)\n",
    "\n",
    "# Plotting the figure\n",
    "iplot(fig, filename='d3-cloropleth-map')"
   ]
  },
  {
   "cell_type": "markdown",
   "metadata": {
    "id": "DD0Bw7G8Ev6r"
   },
   "source": [
    "# Interpretation\n",
    "\n",
    "\n",
    "*   The resulting choropleth map shows the distribution of total claims across different states. The color scale helps distinguish states with higher claims (darker shades) from those with lower claims (lighter shades).\n",
    "*   States like California (CA), Florida (FL), and Texas (TX) have higher claims.\n",
    "\n"
   ]
  },
  {
   "cell_type": "markdown",
   "metadata": {
    "id": "cLq0nNk1bRI2"
   },
   "source": [
    "# Calculating Total Costs by Drug"
   ]
  },
  {
   "cell_type": "code",
   "execution_count": null,
   "metadata": {
    "colab": {
     "background_save": true
    },
    "id": "0sZtrvEkjTZp",
    "outputId": "def98147-8ef9-45d6-b5b9-683034774a2f"
   },
   "outputs": [
    {
     "name": "stderr",
     "output_type": "stream",
     "text": [
      "[Stage 14:================================================>       (24 + 4) / 28]\r"
     ]
    },
    {
     "name": "stdout",
     "output_type": "stream",
     "text": [
      "+----------------+------------------------+\n",
      "|       Brnd_Name|total_drug_cost_millions|\n",
      "+----------------+------------------------+\n",
      "|         Eliquis|                 14444.0|\n",
      "|       Trulicity|                  5581.0|\n",
      "|        Revlimid|                  5575.0|\n",
      "|       Jardiance|                  5148.0|\n",
      "|         Xarelto|                  5043.0|\n",
      "|         Ozempic|                  4040.0|\n",
      "|         Januvia|                  3506.0|\n",
      "|  Humira(Cf) Pen|                  3249.0|\n",
      "| Trelegy Ellipta|                  2972.0|\n",
      "|       Imbruvica|                  2561.0|\n",
      "|        Biktarvy|                  2525.0|\n",
      "| Lantus Solostar|                  2504.0|\n",
      "|        Entresto|                  2120.0|\n",
      "|          Xtandi|                  2112.0|\n",
      "|         Farxiga|                  2089.0|\n",
      "|       Myrbetriq|                  1896.0|\n",
      "|         Ibrance|                  1646.0|\n",
      "|       Symbicort|                  1621.0|\n",
      "|Enbrel Sureclick|                  1600.0|\n",
      "|            Ofev|                  1552.0|\n",
      "+----------------+------------------------+\n",
      "only showing top 20 rows\n",
      "\n"
     ]
    },
    {
     "name": "stderr",
     "output_type": "stream",
     "text": [
      "                                                                                \r"
     ]
    }
   ],
   "source": [
    "#Total Costs by Drugs\n",
    "drug_cost = (df.groupBy(\"Brnd_Name\")\n",
    "             .agg(round(sum(\"Tot_Drug_Cst\") / 1e6, 0).alias(\"total_drug_cost_millions\"))\n",
    "             .orderBy(col(\"total_drug_cost_millions\").desc())\n",
    "             .limit(30))\n",
    "\n",
    "drug_cost.show()"
   ]
  },
  {
   "cell_type": "markdown",
   "metadata": {
    "id": "DpvHzvWzbX6T"
   },
   "source": [
    "# Preparing Data for Visualization"
   ]
  },
  {
   "cell_type": "code",
   "execution_count": null,
   "metadata": {
    "colab": {
     "background_save": true
    },
    "id": "r4Qi7IKxjeSm",
    "outputId": "6f86abb3-d9bf-4bcf-ec9c-942e63a85eb9"
   },
   "outputs": [
    {
     "name": "stderr",
     "output_type": "stream",
     "text": [
      "                                                                                \r"
     ]
    }
   ],
   "source": [
    "top_30_drugCost = drug_cost.collect();\n",
    "y = [row['Brnd_Name'] for row in reversed(top_30_drugCost)]\n",
    "x = [row['total_drug_cost_millions'] for row in reversed(top_30_drugCost)]\n"
   ]
  },
  {
   "cell_type": "markdown",
   "metadata": {
    "id": "e_3K6D3Tbjhb"
   },
   "source": [
    "# Visualizing the Drug Costs"
   ]
  },
  {
   "cell_type": "code",
   "execution_count": null,
   "metadata": {
    "colab": {
     "background_save": true
    },
    "id": "bq_q6aTmjiPD",
    "outputId": "067219ad-4f58-486f-cc27-c0e3b6283e83"
   },
   "outputs": [
    {
     "data": {
      "application/vnd.plotly.v1+json": {
       "config": {
        "linkText": "Export to plot.ly",
        "plotlyServerURL": "https://plot.ly",
        "showLink": false
       },
       "data": [
        {
         "marker": {
          "color": "orange"
         },
         "orientation": "h",
         "type": "bar",
         "x": [
          1046,
          1148,
          1203,
          1239,
          1394,
          1421,
          1422,
          1441,
          1446,
          1467,
          1552,
          1600,
          1621,
          1646,
          1896,
          2089,
          2112,
          2120,
          2504,
          2525,
          2561,
          2972,
          3249,
          3506,
          4040,
          5043,
          5148,
          5575,
          5581,
          14444
         ],
         "y": [
          "Levemir Flextouch",
          "Breo Ellipta",
          "Latuda",
          "Linzess",
          "Pomalyst",
          "Novolog Flexpen",
          "Stelara",
          "Jakafi",
          "Restasis",
          "Invega Sustenna",
          "Ofev",
          "Enbrel Sureclick",
          "Symbicort",
          "Ibrance",
          "Myrbetriq",
          "Farxiga",
          "Xtandi",
          "Entresto",
          "Lantus Solostar",
          "Biktarvy",
          "Imbruvica",
          "Trelegy Ellipta",
          "Humira(Cf) Pen",
          "Januvia",
          "Ozempic",
          "Xarelto",
          "Jardiance",
          "Revlimid",
          "Trulicity",
          "Eliquis"
         ]
        }
       ],
       "layout": {
        "height": 400,
        "margin": {
         "l": 400
        },
        "template": {
         "data": {
          "bar": [
           {
            "error_x": {
             "color": "#2a3f5f"
            },
            "error_y": {
             "color": "#2a3f5f"
            },
            "marker": {
             "line": {
              "color": "#E5ECF6",
              "width": 0.5
             },
             "pattern": {
              "fillmode": "overlay",
              "size": 10,
              "solidity": 0.2
             }
            },
            "type": "bar"
           }
          ],
          "barpolar": [
           {
            "marker": {
             "line": {
              "color": "#E5ECF6",
              "width": 0.5
             },
             "pattern": {
              "fillmode": "overlay",
              "size": 10,
              "solidity": 0.2
             }
            },
            "type": "barpolar"
           }
          ],
          "carpet": [
           {
            "aaxis": {
             "endlinecolor": "#2a3f5f",
             "gridcolor": "white",
             "linecolor": "white",
             "minorgridcolor": "white",
             "startlinecolor": "#2a3f5f"
            },
            "baxis": {
             "endlinecolor": "#2a3f5f",
             "gridcolor": "white",
             "linecolor": "white",
             "minorgridcolor": "white",
             "startlinecolor": "#2a3f5f"
            },
            "type": "carpet"
           }
          ],
          "choropleth": [
           {
            "colorbar": {
             "outlinewidth": 0,
             "ticks": ""
            },
            "type": "choropleth"
           }
          ],
          "contour": [
           {
            "colorbar": {
             "outlinewidth": 0,
             "ticks": ""
            },
            "colorscale": [
             [
              0,
              "#0d0887"
             ],
             [
              0.1111111111111111,
              "#46039f"
             ],
             [
              0.2222222222222222,
              "#7201a8"
             ],
             [
              0.3333333333333333,
              "#9c179e"
             ],
             [
              0.4444444444444444,
              "#bd3786"
             ],
             [
              0.5555555555555556,
              "#d8576b"
             ],
             [
              0.6666666666666666,
              "#ed7953"
             ],
             [
              0.7777777777777778,
              "#fb9f3a"
             ],
             [
              0.8888888888888888,
              "#fdca26"
             ],
             [
              1,
              "#f0f921"
             ]
            ],
            "type": "contour"
           }
          ],
          "contourcarpet": [
           {
            "colorbar": {
             "outlinewidth": 0,
             "ticks": ""
            },
            "type": "contourcarpet"
           }
          ],
          "heatmap": [
           {
            "colorbar": {
             "outlinewidth": 0,
             "ticks": ""
            },
            "colorscale": [
             [
              0,
              "#0d0887"
             ],
             [
              0.1111111111111111,
              "#46039f"
             ],
             [
              0.2222222222222222,
              "#7201a8"
             ],
             [
              0.3333333333333333,
              "#9c179e"
             ],
             [
              0.4444444444444444,
              "#bd3786"
             ],
             [
              0.5555555555555556,
              "#d8576b"
             ],
             [
              0.6666666666666666,
              "#ed7953"
             ],
             [
              0.7777777777777778,
              "#fb9f3a"
             ],
             [
              0.8888888888888888,
              "#fdca26"
             ],
             [
              1,
              "#f0f921"
             ]
            ],
            "type": "heatmap"
           }
          ],
          "heatmapgl": [
           {
            "colorbar": {
             "outlinewidth": 0,
             "ticks": ""
            },
            "colorscale": [
             [
              0,
              "#0d0887"
             ],
             [
              0.1111111111111111,
              "#46039f"
             ],
             [
              0.2222222222222222,
              "#7201a8"
             ],
             [
              0.3333333333333333,
              "#9c179e"
             ],
             [
              0.4444444444444444,
              "#bd3786"
             ],
             [
              0.5555555555555556,
              "#d8576b"
             ],
             [
              0.6666666666666666,
              "#ed7953"
             ],
             [
              0.7777777777777778,
              "#fb9f3a"
             ],
             [
              0.8888888888888888,
              "#fdca26"
             ],
             [
              1,
              "#f0f921"
             ]
            ],
            "type": "heatmapgl"
           }
          ],
          "histogram": [
           {
            "marker": {
             "pattern": {
              "fillmode": "overlay",
              "size": 10,
              "solidity": 0.2
             }
            },
            "type": "histogram"
           }
          ],
          "histogram2d": [
           {
            "colorbar": {
             "outlinewidth": 0,
             "ticks": ""
            },
            "colorscale": [
             [
              0,
              "#0d0887"
             ],
             [
              0.1111111111111111,
              "#46039f"
             ],
             [
              0.2222222222222222,
              "#7201a8"
             ],
             [
              0.3333333333333333,
              "#9c179e"
             ],
             [
              0.4444444444444444,
              "#bd3786"
             ],
             [
              0.5555555555555556,
              "#d8576b"
             ],
             [
              0.6666666666666666,
              "#ed7953"
             ],
             [
              0.7777777777777778,
              "#fb9f3a"
             ],
             [
              0.8888888888888888,
              "#fdca26"
             ],
             [
              1,
              "#f0f921"
             ]
            ],
            "type": "histogram2d"
           }
          ],
          "histogram2dcontour": [
           {
            "colorbar": {
             "outlinewidth": 0,
             "ticks": ""
            },
            "colorscale": [
             [
              0,
              "#0d0887"
             ],
             [
              0.1111111111111111,
              "#46039f"
             ],
             [
              0.2222222222222222,
              "#7201a8"
             ],
             [
              0.3333333333333333,
              "#9c179e"
             ],
             [
              0.4444444444444444,
              "#bd3786"
             ],
             [
              0.5555555555555556,
              "#d8576b"
             ],
             [
              0.6666666666666666,
              "#ed7953"
             ],
             [
              0.7777777777777778,
              "#fb9f3a"
             ],
             [
              0.8888888888888888,
              "#fdca26"
             ],
             [
              1,
              "#f0f921"
             ]
            ],
            "type": "histogram2dcontour"
           }
          ],
          "mesh3d": [
           {
            "colorbar": {
             "outlinewidth": 0,
             "ticks": ""
            },
            "type": "mesh3d"
           }
          ],
          "parcoords": [
           {
            "line": {
             "colorbar": {
              "outlinewidth": 0,
              "ticks": ""
             }
            },
            "type": "parcoords"
           }
          ],
          "pie": [
           {
            "automargin": true,
            "type": "pie"
           }
          ],
          "scatter": [
           {
            "fillpattern": {
             "fillmode": "overlay",
             "size": 10,
             "solidity": 0.2
            },
            "type": "scatter"
           }
          ],
          "scatter3d": [
           {
            "line": {
             "colorbar": {
              "outlinewidth": 0,
              "ticks": ""
             }
            },
            "marker": {
             "colorbar": {
              "outlinewidth": 0,
              "ticks": ""
             }
            },
            "type": "scatter3d"
           }
          ],
          "scattercarpet": [
           {
            "marker": {
             "colorbar": {
              "outlinewidth": 0,
              "ticks": ""
             }
            },
            "type": "scattercarpet"
           }
          ],
          "scattergeo": [
           {
            "marker": {
             "colorbar": {
              "outlinewidth": 0,
              "ticks": ""
             }
            },
            "type": "scattergeo"
           }
          ],
          "scattergl": [
           {
            "marker": {
             "colorbar": {
              "outlinewidth": 0,
              "ticks": ""
             }
            },
            "type": "scattergl"
           }
          ],
          "scattermapbox": [
           {
            "marker": {
             "colorbar": {
              "outlinewidth": 0,
              "ticks": ""
             }
            },
            "type": "scattermapbox"
           }
          ],
          "scatterpolar": [
           {
            "marker": {
             "colorbar": {
              "outlinewidth": 0,
              "ticks": ""
             }
            },
            "type": "scatterpolar"
           }
          ],
          "scatterpolargl": [
           {
            "marker": {
             "colorbar": {
              "outlinewidth": 0,
              "ticks": ""
             }
            },
            "type": "scatterpolargl"
           }
          ],
          "scatterternary": [
           {
            "marker": {
             "colorbar": {
              "outlinewidth": 0,
              "ticks": ""
             }
            },
            "type": "scatterternary"
           }
          ],
          "surface": [
           {
            "colorbar": {
             "outlinewidth": 0,
             "ticks": ""
            },
            "colorscale": [
             [
              0,
              "#0d0887"
             ],
             [
              0.1111111111111111,
              "#46039f"
             ],
             [
              0.2222222222222222,
              "#7201a8"
             ],
             [
              0.3333333333333333,
              "#9c179e"
             ],
             [
              0.4444444444444444,
              "#bd3786"
             ],
             [
              0.5555555555555556,
              "#d8576b"
             ],
             [
              0.6666666666666666,
              "#ed7953"
             ],
             [
              0.7777777777777778,
              "#fb9f3a"
             ],
             [
              0.8888888888888888,
              "#fdca26"
             ],
             [
              1,
              "#f0f921"
             ]
            ],
            "type": "surface"
           }
          ],
          "table": [
           {
            "cells": {
             "fill": {
              "color": "#EBF0F8"
             },
             "line": {
              "color": "white"
             }
            },
            "header": {
             "fill": {
              "color": "#C8D4E3"
             },
             "line": {
              "color": "white"
             }
            },
            "type": "table"
           }
          ]
         },
         "layout": {
          "annotationdefaults": {
           "arrowcolor": "#2a3f5f",
           "arrowhead": 0,
           "arrowwidth": 1
          },
          "autotypenumbers": "strict",
          "coloraxis": {
           "colorbar": {
            "outlinewidth": 0,
            "ticks": ""
           }
          },
          "colorscale": {
           "diverging": [
            [
             0,
             "#8e0152"
            ],
            [
             0.1,
             "#c51b7d"
            ],
            [
             0.2,
             "#de77ae"
            ],
            [
             0.3,
             "#f1b6da"
            ],
            [
             0.4,
             "#fde0ef"
            ],
            [
             0.5,
             "#f7f7f7"
            ],
            [
             0.6,
             "#e6f5d0"
            ],
            [
             0.7,
             "#b8e186"
            ],
            [
             0.8,
             "#7fbc41"
            ],
            [
             0.9,
             "#4d9221"
            ],
            [
             1,
             "#276419"
            ]
           ],
           "sequential": [
            [
             0,
             "#0d0887"
            ],
            [
             0.1111111111111111,
             "#46039f"
            ],
            [
             0.2222222222222222,
             "#7201a8"
            ],
            [
             0.3333333333333333,
             "#9c179e"
            ],
            [
             0.4444444444444444,
             "#bd3786"
            ],
            [
             0.5555555555555556,
             "#d8576b"
            ],
            [
             0.6666666666666666,
             "#ed7953"
            ],
            [
             0.7777777777777778,
             "#fb9f3a"
            ],
            [
             0.8888888888888888,
             "#fdca26"
            ],
            [
             1,
             "#f0f921"
            ]
           ],
           "sequentialminus": [
            [
             0,
             "#0d0887"
            ],
            [
             0.1111111111111111,
             "#46039f"
            ],
            [
             0.2222222222222222,
             "#7201a8"
            ],
            [
             0.3333333333333333,
             "#9c179e"
            ],
            [
             0.4444444444444444,
             "#bd3786"
            ],
            [
             0.5555555555555556,
             "#d8576b"
            ],
            [
             0.6666666666666666,
             "#ed7953"
            ],
            [
             0.7777777777777778,
             "#fb9f3a"
            ],
            [
             0.8888888888888888,
             "#fdca26"
            ],
            [
             1,
             "#f0f921"
            ]
           ]
          },
          "colorway": [
           "#636efa",
           "#EF553B",
           "#00cc96",
           "#ab63fa",
           "#FFA15A",
           "#19d3f3",
           "#FF6692",
           "#B6E880",
           "#FF97FF",
           "#FECB52"
          ],
          "font": {
           "color": "#2a3f5f"
          },
          "geo": {
           "bgcolor": "white",
           "lakecolor": "white",
           "landcolor": "#E5ECF6",
           "showlakes": true,
           "showland": true,
           "subunitcolor": "white"
          },
          "hoverlabel": {
           "align": "left"
          },
          "hovermode": "closest",
          "mapbox": {
           "style": "light"
          },
          "paper_bgcolor": "white",
          "plot_bgcolor": "#E5ECF6",
          "polar": {
           "angularaxis": {
            "gridcolor": "white",
            "linecolor": "white",
            "ticks": ""
           },
           "bgcolor": "#E5ECF6",
           "radialaxis": {
            "gridcolor": "white",
            "linecolor": "white",
            "ticks": ""
           }
          },
          "scene": {
           "xaxis": {
            "backgroundcolor": "#E5ECF6",
            "gridcolor": "white",
            "gridwidth": 2,
            "linecolor": "white",
            "showbackground": true,
            "ticks": "",
            "zerolinecolor": "white"
           },
           "yaxis": {
            "backgroundcolor": "#E5ECF6",
            "gridcolor": "white",
            "gridwidth": 2,
            "linecolor": "white",
            "showbackground": true,
            "ticks": "",
            "zerolinecolor": "white"
           },
           "zaxis": {
            "backgroundcolor": "#E5ECF6",
            "gridcolor": "white",
            "gridwidth": 2,
            "linecolor": "white",
            "showbackground": true,
            "ticks": "",
            "zerolinecolor": "white"
           }
          },
          "shapedefaults": {
           "line": {
            "color": "#2a3f5f"
           }
          },
          "ternary": {
           "aaxis": {
            "gridcolor": "white",
            "linecolor": "white",
            "ticks": ""
           },
           "baxis": {
            "gridcolor": "white",
            "linecolor": "white",
            "ticks": ""
           },
           "bgcolor": "#E5ECF6",
           "caxis": {
            "gridcolor": "white",
            "linecolor": "white",
            "ticks": ""
           }
          },
          "title": {
           "x": 0.05
          },
          "xaxis": {
           "automargin": true,
           "gridcolor": "white",
           "linecolor": "white",
           "ticks": "",
           "title": {
            "standoff": 15
           },
           "zerolinecolor": "white",
           "zerolinewidth": 2
          },
          "yaxis": {
           "automargin": true,
           "gridcolor": "white",
           "linecolor": "white",
           "ticks": "",
           "title": {
            "standoff": 15
           },
           "zerolinecolor": "white",
           "zerolinewidth": 2
          }
         }
        },
        "title": {
         "text": "Drug Ranking per Total Cost"
        },
        "width": 700
       }
      }
     },
     "metadata": {},
     "output_type": "display_data"
    }
   ],
   "source": [
    "trace1 = go.Bar(x=x, y=y, orientation=\"h\", marker=dict(color='orange'))\n",
    "layout = dict(height=400, width=700, margin=dict(l=400), title='Drug Ranking per Total Cost')\n",
    "data = [trace1]\n",
    "\n",
    "fig = go.Figure(data=data, layout=layout)\n",
    "iplot(fig, filename='stacked-bar')"
   ]
  },
  {
   "cell_type": "markdown",
   "metadata": {
    "id": "G-Gt221Xfpek"
   },
   "source": [
    "# The bar chart displays the top drugs based on total costs:\n",
    "\n",
    "*   Top Drug: Eliquis with a total cost of 14,444 million.\n",
    "*   Other high-cost drugs include Trulicity, Revlimid, and Jardiance.\n",
    "\n",
    "This visualization helps quickly identify the drugs contributing the most to overall costs."
   ]
  },
  {
   "cell_type": "markdown",
   "metadata": {
    "id": "xr_6k8_xhSCq"
   },
   "source": [
    "# Aggregating State-Level Prescription Data and Visualizing It"
   ]
  },
  {
   "cell_type": "code",
   "execution_count": null,
   "metadata": {
    "colab": {
     "background_save": true
    },
    "id": "vJdGXnvxjpRX",
    "outputId": "fe200b28-2c09-447b-975a-72ee8abf152f"
   },
   "outputs": [
    {
     "name": "stderr",
     "output_type": "stream",
     "text": [
      "[Stage 20:==================================================>     (25 + 3) / 28]\r"
     ]
    },
    {
     "name": "stdout",
     "output_type": "stream",
     "text": [
      "+-----+------+--------------------------+-------------------------+------------------------+\n",
      "|state|npi_id|total_claim_count_millions|total_day_supply_millions|total_drug_cost_millions|\n",
      "+-----+------+--------------------------+-------------------------+------------------------+\n",
      "|   CA|106129|                     120.0|                   6536.0|                 18110.0|\n",
      "|   FL| 71105|                     103.0|                   5626.0|                 13610.0|\n",
      "|   TX| 68908|                      88.0|                   4767.0|                 12691.0|\n",
      "|   NY| 74955|                      86.0|                   4251.0|                 15183.0|\n",
      "|   PA| 49354|                      66.0|                   3270.0|                  9052.0|\n",
      "|   OH| 41876|                      56.0|                   2850.0|                  7346.0|\n",
      "|   NC| 34684|                      47.0|                   2408.0|                  6602.0|\n",
      "|   IL| 39928|                      46.0|                   2420.0|                  6015.0|\n",
      "|   MI| 35812|                      45.0|                   2384.0|                  6243.0|\n",
      "|   GA| 28334|                      42.0|                   2065.0|                  5833.0|\n",
      "|   TN| 23079|                      36.0|                   1783.0|                  4594.0|\n",
      "|   MO| 19939|                      32.0|                   1562.0|                  3988.0|\n",
      "|   NJ| 27705|                      32.0|                   1720.0|                  5166.0|\n",
      "|   IN| 21197|                      31.0|                   1620.0|                  4159.0|\n",
      "|   MA| 29645|                      30.0|                   1525.0|                  4765.0|\n",
      "|   PR|  8805|                      28.0|                   1170.0|                  2163.0|\n",
      "|   VA| 24339|                      27.0|                   1470.0|                  3583.0|\n",
      "|   KY| 15735|                      27.0|                   1273.0|                  3235.0|\n",
      "|   AL| 14065|                      26.0|                   1312.0|                  3491.0|\n",
      "|   WI| 20357|                      24.0|                   1337.0|                  3138.0|\n",
      "+-----+------+--------------------------+-------------------------+------------------------+\n",
      "only showing top 20 rows\n",
      "\n"
     ]
    },
    {
     "name": "stderr",
     "output_type": "stream",
     "text": [
      "                                                                                \r"
     ]
    }
   ],
   "source": [
    "total_state_claim_drug = (df.groupBy(col(\"Prscrbr_State_Abrvtn\").alias(\"state\"))\n",
    "             .agg(countDistinct(\"Prscrbr_NPI\").alias(\"npi_id\"),\n",
    "                  round(sum(\"Tot_Clms\") / 1e6, 0).alias(\"total_claim_count_millions\"),\n",
    "                  round(sum(\"Tot_Day_Suply\") / 1e6, 0).alias(\"total_day_supply_millions\"),\n",
    "                  round(sum(\"Tot_Drug_Cst\") / 1e6, 0).alias(\"total_drug_cost_millions\"))\n",
    "             .orderBy(col(\"total_claim_count_millions\").desc()))\n",
    "\n",
    "total_state_claim_drug.show();"
   ]
  },
  {
   "cell_type": "code",
   "execution_count": null,
   "metadata": {
    "colab": {
     "background_save": true
    },
    "id": "fkTRhZwmjtrR",
    "outputId": "7d2e6dee-11e0-4f97-b5a4-aac01749709e"
   },
   "outputs": [
    {
     "name": "stderr",
     "output_type": "stream",
     "text": [
      "[Stage 26:================================================>       (24 + 4) / 28]\r"
     ]
    },
    {
     "name": "stdout",
     "output_type": "stream",
     "text": [
      "Row count: 61\n"
     ]
    },
    {
     "name": "stderr",
     "output_type": "stream",
     "text": [
      "                                                                                \r"
     ]
    }
   ],
   "source": [
    "# Count the number of rows in the resulting DataFrame\n",
    "row_count = total_state_claim_drug.count()\n",
    "print(\"Row count:\", row_count)"
   ]
  },
  {
   "cell_type": "code",
   "execution_count": null,
   "metadata": {
    "colab": {
     "background_save": true
    },
    "id": "DicAqnuijx86",
    "outputId": "6137b668-c64a-44e9-94de-3f7a2be1ee82"
   },
   "outputs": [
    {
     "name": "stderr",
     "output_type": "stream",
     "text": [
      "                                                                                \r"
     ]
    }
   ],
   "source": [
    "plot_tscd = total_state_claim_drug.select(\n",
    "    \"total_day_supply_millions\",\n",
    "    \"total_drug_cost_millions\",\n",
    "    \"total_claim_count_millions\",\n",
    "    \"state\"\n",
    ").collect()\n",
    "\n",
    "# Preparing data for Plotly\n",
    "x = [row['total_day_supply_millions'] for row in plot_tscd]\n",
    "y = [row['total_drug_cost_millions'] for row in plot_tscd]\n",
    "text = [row['state'] for row in plot_tscd]\n",
    "size = [row['total_claim_count_millions'] for row in plot_tscd]"
   ]
  },
  {
   "cell_type": "code",
   "execution_count": null,
   "metadata": {
    "colab": {
     "background_save": true
    },
    "id": "LIg6hBf_j_5D",
    "outputId": "05276b55-f7f0-4d60-d71e-f201970312f7"
   },
   "outputs": [
    {
     "data": {
      "application/vnd.plotly.v1+json": {
       "config": {
        "linkText": "Export to plot.ly",
        "plotlyServerURL": "https://plot.ly",
        "showLink": false
       },
       "data": [
        {
         "marker": {
          "color": [
           2750,
           2739,
           2728,
           2717,
           2706,
           2695,
           2684,
           2673,
           2662,
           2651,
           2640,
           2629,
           2618,
           2607,
           2596,
           2585,
           2574,
           2563,
           2552,
           2541,
           2530,
           2519,
           2508,
           2497,
           2486,
           2475,
           2464,
           2453,
           2442,
           2431,
           2420,
           2409,
           2398,
           2387,
           2376,
           2365,
           2354,
           2343,
           2332,
           2321,
           2310,
           2299,
           2288,
           2277,
           2266,
           2255,
           2244,
           2233,
           2222,
           2211,
           2200
          ],
          "line": {
           "width": 2
          },
          "size": [
           120,
           103,
           88,
           86,
           66,
           56,
           47,
           46,
           45,
           42,
           36,
           32,
           32,
           31,
           30,
           28,
           27,
           27,
           26,
           24,
           24,
           23,
           23,
           22,
           21,
           17,
           16,
           16,
           15,
           15,
           15,
           15,
           15,
           13,
           10,
           9,
           9,
           7,
           6,
           6,
           6,
           5,
           5,
           4,
           4,
           4,
           4,
           3,
           2,
           2,
           2,
           1,
           0,
           0,
           0,
           0,
           0,
           0,
           0,
           0,
           0
          ]
         },
         "mode": "markers",
         "text": [
          "CA",
          "FL",
          "TX",
          "NY",
          "PA",
          "OH",
          "NC",
          "IL",
          "MI",
          "GA",
          "TN",
          "NJ",
          "MO",
          "IN",
          "MA",
          "PR",
          "VA",
          "KY",
          "AL",
          "LA",
          "WI",
          "SC",
          "AZ",
          "WA",
          "MN",
          "MD",
          "AR",
          "OK",
          "OR",
          "CT",
          "MS",
          "IA",
          "CO",
          "KS",
          "WV",
          "NV",
          "NE",
          "UT",
          "ID",
          "ME",
          "NM",
          "RI",
          "NH",
          "MT",
          "DE",
          "SD",
          "HI",
          "ND",
          "DC",
          "WY",
          "VT",
          "AK",
          "ZZ",
          "VI",
          "GU",
          "AP",
          "MP",
          "AA",
          "XX",
          "AE",
          "AS"
         ],
         "type": "scatter",
         "x": [
          6536,
          5626,
          4767,
          4251,
          3270,
          2850,
          2408,
          2420,
          2384,
          2065,
          1783,
          1720,
          1562,
          1620,
          1525,
          1170,
          1470,
          1273,
          1312,
          1163,
          1337,
          1232,
          1307,
          1176,
          1108,
          903,
          742,
          789,
          805,
          794,
          713,
          742,
          833,
          617,
          514,
          505,
          401,
          404,
          319,
          340,
          335,
          262,
          284,
          197,
          226,
          180,
          219,
          160,
          83,
          80,
          125,
          65,
          2,
          7,
          5,
          1,
          0,
          0,
          2,
          1,
          0
         ],
         "y": [
          18110,
          13610,
          12691,
          15183,
          9052,
          7346,
          6602,
          6015,
          6243,
          5833,
          4594,
          5166,
          3988,
          4159,
          4765,
          2163,
          3583,
          3235,
          3491,
          3022,
          3138,
          3231,
          3155,
          2775,
          2515,
          2597,
          1649,
          2027,
          1860,
          2633,
          1809,
          1629,
          2138,
          1457,
          1240,
          1173,
          1013,
          908,
          741,
          924,
          793,
          597,
          729,
          439,
          612,
          410,
          622,
          349,
          388,
          151,
          350,
          206,
          5,
          23,
          10,
          4,
          1,
          0,
          4,
          3,
          0
         ]
        }
       ],
       "layout": {
        "paper_bgcolor": "rgb(243, 243, 243)",
        "plot_bgcolor": "rgb(243, 243, 243)",
        "template": {
         "data": {
          "bar": [
           {
            "error_x": {
             "color": "#2a3f5f"
            },
            "error_y": {
             "color": "#2a3f5f"
            },
            "marker": {
             "line": {
              "color": "#E5ECF6",
              "width": 0.5
             },
             "pattern": {
              "fillmode": "overlay",
              "size": 10,
              "solidity": 0.2
             }
            },
            "type": "bar"
           }
          ],
          "barpolar": [
           {
            "marker": {
             "line": {
              "color": "#E5ECF6",
              "width": 0.5
             },
             "pattern": {
              "fillmode": "overlay",
              "size": 10,
              "solidity": 0.2
             }
            },
            "type": "barpolar"
           }
          ],
          "carpet": [
           {
            "aaxis": {
             "endlinecolor": "#2a3f5f",
             "gridcolor": "white",
             "linecolor": "white",
             "minorgridcolor": "white",
             "startlinecolor": "#2a3f5f"
            },
            "baxis": {
             "endlinecolor": "#2a3f5f",
             "gridcolor": "white",
             "linecolor": "white",
             "minorgridcolor": "white",
             "startlinecolor": "#2a3f5f"
            },
            "type": "carpet"
           }
          ],
          "choropleth": [
           {
            "colorbar": {
             "outlinewidth": 0,
             "ticks": ""
            },
            "type": "choropleth"
           }
          ],
          "contour": [
           {
            "colorbar": {
             "outlinewidth": 0,
             "ticks": ""
            },
            "colorscale": [
             [
              0,
              "#0d0887"
             ],
             [
              0.1111111111111111,
              "#46039f"
             ],
             [
              0.2222222222222222,
              "#7201a8"
             ],
             [
              0.3333333333333333,
              "#9c179e"
             ],
             [
              0.4444444444444444,
              "#bd3786"
             ],
             [
              0.5555555555555556,
              "#d8576b"
             ],
             [
              0.6666666666666666,
              "#ed7953"
             ],
             [
              0.7777777777777778,
              "#fb9f3a"
             ],
             [
              0.8888888888888888,
              "#fdca26"
             ],
             [
              1,
              "#f0f921"
             ]
            ],
            "type": "contour"
           }
          ],
          "contourcarpet": [
           {
            "colorbar": {
             "outlinewidth": 0,
             "ticks": ""
            },
            "type": "contourcarpet"
           }
          ],
          "heatmap": [
           {
            "colorbar": {
             "outlinewidth": 0,
             "ticks": ""
            },
            "colorscale": [
             [
              0,
              "#0d0887"
             ],
             [
              0.1111111111111111,
              "#46039f"
             ],
             [
              0.2222222222222222,
              "#7201a8"
             ],
             [
              0.3333333333333333,
              "#9c179e"
             ],
             [
              0.4444444444444444,
              "#bd3786"
             ],
             [
              0.5555555555555556,
              "#d8576b"
             ],
             [
              0.6666666666666666,
              "#ed7953"
             ],
             [
              0.7777777777777778,
              "#fb9f3a"
             ],
             [
              0.8888888888888888,
              "#fdca26"
             ],
             [
              1,
              "#f0f921"
             ]
            ],
            "type": "heatmap"
           }
          ],
          "heatmapgl": [
           {
            "colorbar": {
             "outlinewidth": 0,
             "ticks": ""
            },
            "colorscale": [
             [
              0,
              "#0d0887"
             ],
             [
              0.1111111111111111,
              "#46039f"
             ],
             [
              0.2222222222222222,
              "#7201a8"
             ],
             [
              0.3333333333333333,
              "#9c179e"
             ],
             [
              0.4444444444444444,
              "#bd3786"
             ],
             [
              0.5555555555555556,
              "#d8576b"
             ],
             [
              0.6666666666666666,
              "#ed7953"
             ],
             [
              0.7777777777777778,
              "#fb9f3a"
             ],
             [
              0.8888888888888888,
              "#fdca26"
             ],
             [
              1,
              "#f0f921"
             ]
            ],
            "type": "heatmapgl"
           }
          ],
          "histogram": [
           {
            "marker": {
             "pattern": {
              "fillmode": "overlay",
              "size": 10,
              "solidity": 0.2
             }
            },
            "type": "histogram"
           }
          ],
          "histogram2d": [
           {
            "colorbar": {
             "outlinewidth": 0,
             "ticks": ""
            },
            "colorscale": [
             [
              0,
              "#0d0887"
             ],
             [
              0.1111111111111111,
              "#46039f"
             ],
             [
              0.2222222222222222,
              "#7201a8"
             ],
             [
              0.3333333333333333,
              "#9c179e"
             ],
             [
              0.4444444444444444,
              "#bd3786"
             ],
             [
              0.5555555555555556,
              "#d8576b"
             ],
             [
              0.6666666666666666,
              "#ed7953"
             ],
             [
              0.7777777777777778,
              "#fb9f3a"
             ],
             [
              0.8888888888888888,
              "#fdca26"
             ],
             [
              1,
              "#f0f921"
             ]
            ],
            "type": "histogram2d"
           }
          ],
          "histogram2dcontour": [
           {
            "colorbar": {
             "outlinewidth": 0,
             "ticks": ""
            },
            "colorscale": [
             [
              0,
              "#0d0887"
             ],
             [
              0.1111111111111111,
              "#46039f"
             ],
             [
              0.2222222222222222,
              "#7201a8"
             ],
             [
              0.3333333333333333,
              "#9c179e"
             ],
             [
              0.4444444444444444,
              "#bd3786"
             ],
             [
              0.5555555555555556,
              "#d8576b"
             ],
             [
              0.6666666666666666,
              "#ed7953"
             ],
             [
              0.7777777777777778,
              "#fb9f3a"
             ],
             [
              0.8888888888888888,
              "#fdca26"
             ],
             [
              1,
              "#f0f921"
             ]
            ],
            "type": "histogram2dcontour"
           }
          ],
          "mesh3d": [
           {
            "colorbar": {
             "outlinewidth": 0,
             "ticks": ""
            },
            "type": "mesh3d"
           }
          ],
          "parcoords": [
           {
            "line": {
             "colorbar": {
              "outlinewidth": 0,
              "ticks": ""
             }
            },
            "type": "parcoords"
           }
          ],
          "pie": [
           {
            "automargin": true,
            "type": "pie"
           }
          ],
          "scatter": [
           {
            "fillpattern": {
             "fillmode": "overlay",
             "size": 10,
             "solidity": 0.2
            },
            "type": "scatter"
           }
          ],
          "scatter3d": [
           {
            "line": {
             "colorbar": {
              "outlinewidth": 0,
              "ticks": ""
             }
            },
            "marker": {
             "colorbar": {
              "outlinewidth": 0,
              "ticks": ""
             }
            },
            "type": "scatter3d"
           }
          ],
          "scattercarpet": [
           {
            "marker": {
             "colorbar": {
              "outlinewidth": 0,
              "ticks": ""
             }
            },
            "type": "scattercarpet"
           }
          ],
          "scattergeo": [
           {
            "marker": {
             "colorbar": {
              "outlinewidth": 0,
              "ticks": ""
             }
            },
            "type": "scattergeo"
           }
          ],
          "scattergl": [
           {
            "marker": {
             "colorbar": {
              "outlinewidth": 0,
              "ticks": ""
             }
            },
            "type": "scattergl"
           }
          ],
          "scattermapbox": [
           {
            "marker": {
             "colorbar": {
              "outlinewidth": 0,
              "ticks": ""
             }
            },
            "type": "scattermapbox"
           }
          ],
          "scatterpolar": [
           {
            "marker": {
             "colorbar": {
              "outlinewidth": 0,
              "ticks": ""
             }
            },
            "type": "scatterpolar"
           }
          ],
          "scatterpolargl": [
           {
            "marker": {
             "colorbar": {
              "outlinewidth": 0,
              "ticks": ""
             }
            },
            "type": "scatterpolargl"
           }
          ],
          "scatterternary": [
           {
            "marker": {
             "colorbar": {
              "outlinewidth": 0,
              "ticks": ""
             }
            },
            "type": "scatterternary"
           }
          ],
          "surface": [
           {
            "colorbar": {
             "outlinewidth": 0,
             "ticks": ""
            },
            "colorscale": [
             [
              0,
              "#0d0887"
             ],
             [
              0.1111111111111111,
              "#46039f"
             ],
             [
              0.2222222222222222,
              "#7201a8"
             ],
             [
              0.3333333333333333,
              "#9c179e"
             ],
             [
              0.4444444444444444,
              "#bd3786"
             ],
             [
              0.5555555555555556,
              "#d8576b"
             ],
             [
              0.6666666666666666,
              "#ed7953"
             ],
             [
              0.7777777777777778,
              "#fb9f3a"
             ],
             [
              0.8888888888888888,
              "#fdca26"
             ],
             [
              1,
              "#f0f921"
             ]
            ],
            "type": "surface"
           }
          ],
          "table": [
           {
            "cells": {
             "fill": {
              "color": "#EBF0F8"
             },
             "line": {
              "color": "white"
             }
            },
            "header": {
             "fill": {
              "color": "#C8D4E3"
             },
             "line": {
              "color": "white"
             }
            },
            "type": "table"
           }
          ]
         },
         "layout": {
          "annotationdefaults": {
           "arrowcolor": "#2a3f5f",
           "arrowhead": 0,
           "arrowwidth": 1
          },
          "autotypenumbers": "strict",
          "coloraxis": {
           "colorbar": {
            "outlinewidth": 0,
            "ticks": ""
           }
          },
          "colorscale": {
           "diverging": [
            [
             0,
             "#8e0152"
            ],
            [
             0.1,
             "#c51b7d"
            ],
            [
             0.2,
             "#de77ae"
            ],
            [
             0.3,
             "#f1b6da"
            ],
            [
             0.4,
             "#fde0ef"
            ],
            [
             0.5,
             "#f7f7f7"
            ],
            [
             0.6,
             "#e6f5d0"
            ],
            [
             0.7,
             "#b8e186"
            ],
            [
             0.8,
             "#7fbc41"
            ],
            [
             0.9,
             "#4d9221"
            ],
            [
             1,
             "#276419"
            ]
           ],
           "sequential": [
            [
             0,
             "#0d0887"
            ],
            [
             0.1111111111111111,
             "#46039f"
            ],
            [
             0.2222222222222222,
             "#7201a8"
            ],
            [
             0.3333333333333333,
             "#9c179e"
            ],
            [
             0.4444444444444444,
             "#bd3786"
            ],
            [
             0.5555555555555556,
             "#d8576b"
            ],
            [
             0.6666666666666666,
             "#ed7953"
            ],
            [
             0.7777777777777778,
             "#fb9f3a"
            ],
            [
             0.8888888888888888,
             "#fdca26"
            ],
            [
             1,
             "#f0f921"
            ]
           ],
           "sequentialminus": [
            [
             0,
             "#0d0887"
            ],
            [
             0.1111111111111111,
             "#46039f"
            ],
            [
             0.2222222222222222,
             "#7201a8"
            ],
            [
             0.3333333333333333,
             "#9c179e"
            ],
            [
             0.4444444444444444,
             "#bd3786"
            ],
            [
             0.5555555555555556,
             "#d8576b"
            ],
            [
             0.6666666666666666,
             "#ed7953"
            ],
            [
             0.7777777777777778,
             "#fb9f3a"
            ],
            [
             0.8888888888888888,
             "#fdca26"
            ],
            [
             1,
             "#f0f921"
            ]
           ]
          },
          "colorway": [
           "#636efa",
           "#EF553B",
           "#00cc96",
           "#ab63fa",
           "#FFA15A",
           "#19d3f3",
           "#FF6692",
           "#B6E880",
           "#FF97FF",
           "#FECB52"
          ],
          "font": {
           "color": "#2a3f5f"
          },
          "geo": {
           "bgcolor": "white",
           "lakecolor": "white",
           "landcolor": "#E5ECF6",
           "showlakes": true,
           "showland": true,
           "subunitcolor": "white"
          },
          "hoverlabel": {
           "align": "left"
          },
          "hovermode": "closest",
          "mapbox": {
           "style": "light"
          },
          "paper_bgcolor": "white",
          "plot_bgcolor": "#E5ECF6",
          "polar": {
           "angularaxis": {
            "gridcolor": "white",
            "linecolor": "white",
            "ticks": ""
           },
           "bgcolor": "#E5ECF6",
           "radialaxis": {
            "gridcolor": "white",
            "linecolor": "white",
            "ticks": ""
           }
          },
          "scene": {
           "xaxis": {
            "backgroundcolor": "#E5ECF6",
            "gridcolor": "white",
            "gridwidth": 2,
            "linecolor": "white",
            "showbackground": true,
            "ticks": "",
            "zerolinecolor": "white"
           },
           "yaxis": {
            "backgroundcolor": "#E5ECF6",
            "gridcolor": "white",
            "gridwidth": 2,
            "linecolor": "white",
            "showbackground": true,
            "ticks": "",
            "zerolinecolor": "white"
           },
           "zaxis": {
            "backgroundcolor": "#E5ECF6",
            "gridcolor": "white",
            "gridwidth": 2,
            "linecolor": "white",
            "showbackground": true,
            "ticks": "",
            "zerolinecolor": "white"
           }
          },
          "shapedefaults": {
           "line": {
            "color": "#2a3f5f"
           }
          },
          "ternary": {
           "aaxis": {
            "gridcolor": "white",
            "linecolor": "white",
            "ticks": ""
           },
           "baxis": {
            "gridcolor": "white",
            "linecolor": "white",
            "ticks": ""
           },
           "bgcolor": "#E5ECF6",
           "caxis": {
            "gridcolor": "white",
            "linecolor": "white",
            "ticks": ""
           }
          },
          "title": {
           "x": 0.05
          },
          "xaxis": {
           "automargin": true,
           "gridcolor": "white",
           "linecolor": "white",
           "ticks": "",
           "title": {
            "standoff": 15
           },
           "zerolinecolor": "white",
           "zerolinewidth": 2
          },
          "yaxis": {
           "automargin": true,
           "gridcolor": "white",
           "linecolor": "white",
           "ticks": "",
           "title": {
            "standoff": 15
           },
           "zerolinecolor": "white",
           "zerolinewidth": 2
          }
         }
        },
        "title": {
         "text": "Total claim count | Total Drug Cost | Total Day Supply for every state"
        },
        "xaxis": {
         "gridcolor": "rgb(255, 255, 255)",
         "gridwidth": 2,
         "ticklen": 5,
         "title": {
          "text": "Total Day Supply"
         },
         "zerolinewidth": 1
        },
        "yaxis": {
         "gridcolor": "rgb(255, 255, 255)",
         "gridwidth": 2,
         "ticklen": 5,
         "title": {
          "text": "Total Drug Cost"
         },
         "zerolinewidth": 1
        }
       }
      }
     },
     "metadata": {},
     "output_type": "display_data"
    }
   ],
   "source": [
    "trace1 = go.Scatter(\n",
    "    x=x,\n",
    "    y=y,\n",
    "    mode='markers',\n",
    "    text=text,\n",
    "    marker=dict(\n",
    "        color=list(reversed([i*11 for i in range(200,251)])),\n",
    "        size=size,\n",
    "        line=dict(width=2),\n",
    "    )\n",
    ")\n",
    "data = [trace1]\n",
    "\n",
    "layout = go.Layout(\n",
    "    title='Total claim count | Total Drug Cost | Total Day Supply for every state',\n",
    "    xaxis=dict(\n",
    "        title='Total Day Supply',\n",
    "        gridcolor='rgb(255, 255, 255)',\n",
    "        zerolinewidth=1,\n",
    "        ticklen=5,\n",
    "        gridwidth=2,\n",
    "    ),\n",
    "    yaxis=dict(\n",
    "        title='Total Drug Cost',\n",
    "        gridcolor='rgb(255, 255, 255)',\n",
    "        zerolinewidth=1,\n",
    "        ticklen=5,\n",
    "        gridwidth=2,\n",
    "    ),\n",
    "    paper_bgcolor='rgb(243, 243, 243)',\n",
    "    plot_bgcolor='rgb(243, 243, 243)',\n",
    ")\n",
    "\n",
    "fig = go.Figure(data=data, layout=layout)\n",
    "iplot(fig, filename='scatter-colorscale')"
   ]
  },
  {
   "cell_type": "markdown",
   "metadata": {
    "id": "0yUKNZonhhP9"
   },
   "source": [
    "# Interpretation\n",
    "The scatter plot visualizes the relationship between total day supply and total drug cost for each state. The size of each point represents the total claim count."
   ]
  },
  {
   "cell_type": "markdown",
   "metadata": {
    "id": "hJhQBk2NiolH"
   },
   "source": [
    "# Aggregating and Visualizing the Top 50 Drugs"
   ]
  },
  {
   "cell_type": "code",
   "execution_count": null,
   "metadata": {
    "colab": {
     "background_save": true
    },
    "id": "uCjLMjl5kCCx",
    "outputId": "cb6dd30f-3074-4775-aac7-35ed90a9f833"
   },
   "outputs": [
    {
     "name": "stderr",
     "output_type": "stream",
     "text": [
      "[Stage 40:================================================>       (24 + 4) / 28]\r"
     ]
    },
    {
     "name": "stdout",
     "output_type": "stream",
     "text": [
      "+--------------------+--------------------------+-------------------------+------------------------+---------+-------+----------+------------------+--------------------+--------------------+\n",
      "|           Gnrc_Name|total_claim_count_millions|total_day_supply_millions|total_drug_cost_millions|max_claim|max_day|  max_cost|         var_claim|             var_day|            var_cost|\n",
      "+--------------------+--------------------------+-------------------------+------------------------+---------+-------+----------+------------------+--------------------+--------------------+\n",
      "|Atorvastatin Calcium|                      64.0|                   4635.0|                   842.0|    15390| 473095|  403073.3| 57025.80972718224|2.7869601422890836E8|1.1972733473461762E7|\n",
      "| Amlodipine Besylate|                      45.0|                   3153.0|                   340.0|     8656| 300387|  263405.6|30880.424449285954|1.3614320671636102E8|  2422886.1357891015|\n",
      "|Levothyroxine Sodium|                      44.0|                   2965.0|                   995.0|     8757| 264051| 354586.21| 25710.17573085683| 1.000582137910696E8|1.7800628850239847E7|\n",
      "|          Lisinopril|                      35.0|                   2534.0|                   265.0|     5993| 346309| 182565.96|16585.067411793396| 8.307457301728874E7|  1377699.0879724144|\n",
      "|          Gabapentin|                      33.0|                   1492.0|                   691.0|     8622| 260331| 220690.72| 20142.12573845505|3.1870741288449284E7|   8984111.318702612|\n",
      "|       Metformin Hcl|                      31.0|                   2226.0|                   385.0|     3718| 235442|2164591.49|  9568.81830729218|4.5057692011665374E7| 7.357467822879499E7|\n",
      "|  Losartan Potassium|                      30.0|                   2224.0|                   368.0|     4233| 211757|  47774.28| 16294.45490386053| 8.374574657731518E7|  2637717.4501155606|\n",
      "|          Omeprazole|                      27.0|                   1747.0|                   388.0|     4304| 249324|  63388.67|14215.081780649376|5.3978766664584994E7|   3008605.529029923|\n",
      "|Metoprolol Succinate|                      27.0|                   1891.0|                   544.0|     5376| 283360|  96303.29|18743.801772400104| 9.463783909966743E7|  8001313.3965542335|\n",
      "|          Furosemide|                      22.0|                   1197.0|                   135.0|     8362| 157471|  48230.09|15100.418613301039|2.9600025534279548E7|   608503.1002273622|\n",
      "| Pantoprazole Sodium|                      21.0|                   1263.0|                   351.0|     4577| 193773| 253778.47|11960.534594191535| 3.613018365493952E7|  4099853.1610876312|\n",
      "|Rosuvastatin Calcium|                      21.0|                   1596.0|                   587.0|     7525| 221109| 171274.42|15377.846260869157| 8.324129746582697E7| 1.466134253562915E7|\n",
      "|Hydrocodone/Aceta...|                      20.0|                    415.0|                   418.0|    13976| 410376| 351600.02|  42706.0254211117| 3.392107474813795E7| 3.309304950580548E7|\n",
      "|            Apixaban|                      18.0|                    797.0|                 14444.0|     7925| 181930|3311564.55|17098.683608741663|3.3540325671599258E7|1.095011545834662E10|\n",
      "| Hydrochlorothiazide|                      18.0|                   1329.0|                    96.0|     1999| 150299|   10312.4|  5407.72366220237| 2.989520915556223E7|  170484.70886385842|\n",
      "|      Tamsulosin Hcl|                      18.0|                   1163.0|                   346.0|     9928| 745661| 248441.91|18872.465119732482| 8.446626044052729E7|   8069116.299795555|\n",
      "|         Simvastatin|                      17.0|                   1267.0|                   149.0|     4495| 232745|  28917.57| 8206.329689691362| 4.359011087713114E7|    682386.419105611|\n",
      "| Metoprolol Tartrate|                      16.0|                   1025.0|                   130.0|     6138| 168463|  47729.56| 8849.109604160503| 2.974567240128833E7|   571516.6153387174|\n",
      "|   Albuterol Sulfate|                      16.0|                    480.0|                   807.0|    16500| 486839| 613812.37| 5333.594814564719|   5370982.939646496| 1.237765477121465E7|\n",
      "|       Trazodone Hcl|                      15.0|                    751.0|                   193.0|     4951| 164523|  53585.79| 8888.278305236754|1.3072019468151588E7|   1369897.983584987|\n",
      "+--------------------+--------------------------+-------------------------+------------------------+---------+-------+----------+------------------+--------------------+--------------------+\n",
      "only showing top 20 rows\n",
      "\n"
     ]
    },
    {
     "name": "stderr",
     "output_type": "stream",
     "text": [
      "                                                                                \r"
     ]
    }
   ],
   "source": [
    "most_pres_drug = (df.groupBy(\"Gnrc_Name\")\n",
    "             .agg(round(sum(\"Tot_Clms\") / 1e6, 0).alias(\"total_claim_count_millions\"),\n",
    "                  round(sum(\"Tot_Day_Suply\") / 1e6, 0).alias(\"total_day_supply_millions\"),\n",
    "                  round(sum(\"Tot_Drug_Cst\") / 1e6, 0).alias(\"total_drug_cost_millions\"),\n",
    "                  max(\"Tot_Clms\").alias(\"max_claim\"),\n",
    "                  max(\"Tot_Day_Suply\").alias(\"max_day\"),\n",
    "                  max(\"Tot_Drug_Cst\").alias(\"max_cost\"),\n",
    "                  variance(\"Tot_Clms\").alias(\"var_claim\"),\n",
    "                  variance(\"Tot_Day_Suply\").alias(\"var_day\"),\n",
    "                  variance(\"Tot_Drug_Cst\").alias(\"var_cost\"))\n",
    "             .orderBy(col(\"total_claim_count_millions\").desc()))\n",
    "\n",
    "most_pres_drug.show()"
   ]
  },
  {
   "cell_type": "code",
   "execution_count": null,
   "metadata": {
    "colab": {
     "background_save": true
    },
    "id": "otqmabedkHG7",
    "outputId": "3ba0299b-6309-4cc4-dce8-4ff5ba9a3bb4"
   },
   "outputs": [
    {
     "name": "stderr",
     "output_type": "stream",
     "text": [
      "                                                                                \r"
     ]
    }
   ],
   "source": [
    "top_50_most_pres_drug = most_pres_drug.limit(50)\n",
    "top_50_data = top_50_most_pres_drug.collect()\n"
   ]
  },
  {
   "cell_type": "code",
   "execution_count": null,
   "metadata": {
    "colab": {
     "background_save": true
    },
    "id": "adqaD1ZwkIsP"
   },
   "outputs": [],
   "source": [
    "drug_names = [row['Gnrc_Name'] for row in top_50_data]\n",
    "total_claims = [row['total_claim_count_millions'] for row in top_50_data]\n",
    "total_day_supply = [row['total_day_supply_millions'] for row in top_50_data]\n",
    "total_drug_cost = [row['total_drug_cost_millions'] for row in top_50_data]\n"
   ]
  },
  {
   "cell_type": "code",
   "execution_count": null,
   "metadata": {
    "colab": {
     "background_save": true
    },
    "id": "kc8FKtSGkKxa",
    "outputId": "eac97310-8929-4eb1-9840-9ec3e05acb59"
   },
   "outputs": [
    {
     "data": {
      "application/vnd.plotly.v1+json": {
       "config": {
        "linkText": "Export to plot.ly",
        "plotlyServerURL": "https://plot.ly",
        "showLink": false
       },
       "data": [
        {
         "name": "Total Claims",
         "type": "bar",
         "x": [
          "Atorvastatin Calcium",
          "Amlodipine Besylate",
          "Levothyroxine Sodium",
          "Lisinopril",
          "Gabapentin",
          "Metformin Hcl",
          "Losartan Potassium",
          "Metoprolol Succinate",
          "Omeprazole",
          "Furosemide",
          "Pantoprazole Sodium",
          "Rosuvastatin Calcium",
          "Hydrocodone/Acetaminophen",
          "Apixaban",
          "Hydrochlorothiazide",
          "Tamsulosin Hcl",
          "Simvastatin",
          "Metoprolol Tartrate",
          "Albuterol Sulfate",
          "Trazodone Hcl",
          "Potassium Chloride",
          "Carvedilol",
          "Sertraline Hcl",
          "Prednisone",
          "Clopidogrel Bisulfate",
          "Fluticasone Propionate",
          "Tramadol Hcl",
          "Famotidine",
          "Montelukast Sodium",
          "Alprazolam",
          "Duloxetine Hcl",
          "Latanoprost",
          "Escitalopram Oxalate",
          "Meloxicam",
          "Pravastatin Sodium",
          "Oxycodone Hcl/Acetaminophen",
          "Diclofenac Sodium",
          "Clonazepam",
          "Quetiapine Fumarate",
          "Lorazepam",
          "Allopurinol",
          "Bupropion Hcl",
          "Mirtazapine",
          "Oxycodone Hcl",
          "Citalopram Hydrobromide",
          "Alendronate Sodium",
          "Atenolol",
          "Glipizide",
          "Zolpidem Tartrate",
          "Donepezil Hcl"
         ],
         "y": [
          64,
          45,
          44,
          35,
          33,
          31,
          30,
          27,
          27,
          22,
          21,
          21,
          20,
          18,
          18,
          18,
          17,
          16,
          16,
          15,
          14,
          14,
          14,
          13,
          12,
          12,
          12,
          11,
          11,
          11,
          11,
          10,
          10,
          10,
          9,
          8,
          8,
          8,
          8,
          8,
          8,
          7,
          7,
          7,
          7,
          7,
          7,
          7,
          7,
          7
         ]
        },
        {
         "name": "Total Day Supply",
         "type": "bar",
         "x": [
          "Atorvastatin Calcium",
          "Amlodipine Besylate",
          "Levothyroxine Sodium",
          "Lisinopril",
          "Gabapentin",
          "Metformin Hcl",
          "Losartan Potassium",
          "Metoprolol Succinate",
          "Omeprazole",
          "Furosemide",
          "Pantoprazole Sodium",
          "Rosuvastatin Calcium",
          "Hydrocodone/Acetaminophen",
          "Apixaban",
          "Hydrochlorothiazide",
          "Tamsulosin Hcl",
          "Simvastatin",
          "Metoprolol Tartrate",
          "Albuterol Sulfate",
          "Trazodone Hcl",
          "Potassium Chloride",
          "Carvedilol",
          "Sertraline Hcl",
          "Prednisone",
          "Clopidogrel Bisulfate",
          "Fluticasone Propionate",
          "Tramadol Hcl",
          "Famotidine",
          "Montelukast Sodium",
          "Alprazolam",
          "Duloxetine Hcl",
          "Latanoprost",
          "Escitalopram Oxalate",
          "Meloxicam",
          "Pravastatin Sodium",
          "Oxycodone Hcl/Acetaminophen",
          "Diclofenac Sodium",
          "Clonazepam",
          "Quetiapine Fumarate",
          "Lorazepam",
          "Allopurinol",
          "Bupropion Hcl",
          "Mirtazapine",
          "Oxycodone Hcl",
          "Citalopram Hydrobromide",
          "Alendronate Sodium",
          "Atenolol",
          "Glipizide",
          "Zolpidem Tartrate",
          "Donepezil Hcl"
         ],
         "y": [
          4635,
          3153,
          2965,
          2534,
          1492,
          2226,
          2224,
          1891,
          1747,
          1197,
          1263,
          1596,
          415,
          797,
          1329,
          1163,
          1267,
          1025,
          480,
          751,
          737,
          920,
          742,
          284,
          783,
          581,
          244,
          586,
          700,
          332,
          564,
          492,
          569,
          489,
          705,
          181,
          228,
          265,
          306,
          208,
          588,
          371,
          272,
          153,
          378,
          473,
          487,
          473,
          254,
          326
         ]
        },
        {
         "name": "Total Drug Cost",
         "type": "bar",
         "x": [
          "Atorvastatin Calcium",
          "Amlodipine Besylate",
          "Levothyroxine Sodium",
          "Lisinopril",
          "Gabapentin",
          "Metformin Hcl",
          "Losartan Potassium",
          "Metoprolol Succinate",
          "Omeprazole",
          "Furosemide",
          "Pantoprazole Sodium",
          "Rosuvastatin Calcium",
          "Hydrocodone/Acetaminophen",
          "Apixaban",
          "Hydrochlorothiazide",
          "Tamsulosin Hcl",
          "Simvastatin",
          "Metoprolol Tartrate",
          "Albuterol Sulfate",
          "Trazodone Hcl",
          "Potassium Chloride",
          "Carvedilol",
          "Sertraline Hcl",
          "Prednisone",
          "Clopidogrel Bisulfate",
          "Fluticasone Propionate",
          "Tramadol Hcl",
          "Famotidine",
          "Montelukast Sodium",
          "Alprazolam",
          "Duloxetine Hcl",
          "Latanoprost",
          "Escitalopram Oxalate",
          "Meloxicam",
          "Pravastatin Sodium",
          "Oxycodone Hcl/Acetaminophen",
          "Diclofenac Sodium",
          "Clonazepam",
          "Quetiapine Fumarate",
          "Lorazepam",
          "Allopurinol",
          "Bupropion Hcl",
          "Mirtazapine",
          "Oxycodone Hcl",
          "Citalopram Hydrobromide",
          "Alendronate Sodium",
          "Atenolol",
          "Glipizide",
          "Zolpidem Tartrate",
          "Donepezil Hcl"
         ],
         "y": [
          842,
          340,
          995,
          265,
          691,
          385,
          368,
          544,
          388,
          135,
          351,
          587,
          418,
          14444,
          96,
          346,
          149,
          130,
          807,
          193,
          408,
          160,
          156,
          94,
          189,
          456,
          104,
          168,
          192,
          107,
          471,
          211,
          158,
          65,
          166,
          286,
          471,
          74,
          303,
          68,
          127,
          274,
          152,
          521,
          54,
          82,
          62,
          90,
          71,
          105
         ]
        }
       ],
       "layout": {
        "barmode": "group",
        "margin": {
         "b": 200
        },
        "template": {
         "data": {
          "bar": [
           {
            "error_x": {
             "color": "#2a3f5f"
            },
            "error_y": {
             "color": "#2a3f5f"
            },
            "marker": {
             "line": {
              "color": "#E5ECF6",
              "width": 0.5
             },
             "pattern": {
              "fillmode": "overlay",
              "size": 10,
              "solidity": 0.2
             }
            },
            "type": "bar"
           }
          ],
          "barpolar": [
           {
            "marker": {
             "line": {
              "color": "#E5ECF6",
              "width": 0.5
             },
             "pattern": {
              "fillmode": "overlay",
              "size": 10,
              "solidity": 0.2
             }
            },
            "type": "barpolar"
           }
          ],
          "carpet": [
           {
            "aaxis": {
             "endlinecolor": "#2a3f5f",
             "gridcolor": "white",
             "linecolor": "white",
             "minorgridcolor": "white",
             "startlinecolor": "#2a3f5f"
            },
            "baxis": {
             "endlinecolor": "#2a3f5f",
             "gridcolor": "white",
             "linecolor": "white",
             "minorgridcolor": "white",
             "startlinecolor": "#2a3f5f"
            },
            "type": "carpet"
           }
          ],
          "choropleth": [
           {
            "colorbar": {
             "outlinewidth": 0,
             "ticks": ""
            },
            "type": "choropleth"
           }
          ],
          "contour": [
           {
            "colorbar": {
             "outlinewidth": 0,
             "ticks": ""
            },
            "colorscale": [
             [
              0,
              "#0d0887"
             ],
             [
              0.1111111111111111,
              "#46039f"
             ],
             [
              0.2222222222222222,
              "#7201a8"
             ],
             [
              0.3333333333333333,
              "#9c179e"
             ],
             [
              0.4444444444444444,
              "#bd3786"
             ],
             [
              0.5555555555555556,
              "#d8576b"
             ],
             [
              0.6666666666666666,
              "#ed7953"
             ],
             [
              0.7777777777777778,
              "#fb9f3a"
             ],
             [
              0.8888888888888888,
              "#fdca26"
             ],
             [
              1,
              "#f0f921"
             ]
            ],
            "type": "contour"
           }
          ],
          "contourcarpet": [
           {
            "colorbar": {
             "outlinewidth": 0,
             "ticks": ""
            },
            "type": "contourcarpet"
           }
          ],
          "heatmap": [
           {
            "colorbar": {
             "outlinewidth": 0,
             "ticks": ""
            },
            "colorscale": [
             [
              0,
              "#0d0887"
             ],
             [
              0.1111111111111111,
              "#46039f"
             ],
             [
              0.2222222222222222,
              "#7201a8"
             ],
             [
              0.3333333333333333,
              "#9c179e"
             ],
             [
              0.4444444444444444,
              "#bd3786"
             ],
             [
              0.5555555555555556,
              "#d8576b"
             ],
             [
              0.6666666666666666,
              "#ed7953"
             ],
             [
              0.7777777777777778,
              "#fb9f3a"
             ],
             [
              0.8888888888888888,
              "#fdca26"
             ],
             [
              1,
              "#f0f921"
             ]
            ],
            "type": "heatmap"
           }
          ],
          "heatmapgl": [
           {
            "colorbar": {
             "outlinewidth": 0,
             "ticks": ""
            },
            "colorscale": [
             [
              0,
              "#0d0887"
             ],
             [
              0.1111111111111111,
              "#46039f"
             ],
             [
              0.2222222222222222,
              "#7201a8"
             ],
             [
              0.3333333333333333,
              "#9c179e"
             ],
             [
              0.4444444444444444,
              "#bd3786"
             ],
             [
              0.5555555555555556,
              "#d8576b"
             ],
             [
              0.6666666666666666,
              "#ed7953"
             ],
             [
              0.7777777777777778,
              "#fb9f3a"
             ],
             [
              0.8888888888888888,
              "#fdca26"
             ],
             [
              1,
              "#f0f921"
             ]
            ],
            "type": "heatmapgl"
           }
          ],
          "histogram": [
           {
            "marker": {
             "pattern": {
              "fillmode": "overlay",
              "size": 10,
              "solidity": 0.2
             }
            },
            "type": "histogram"
           }
          ],
          "histogram2d": [
           {
            "colorbar": {
             "outlinewidth": 0,
             "ticks": ""
            },
            "colorscale": [
             [
              0,
              "#0d0887"
             ],
             [
              0.1111111111111111,
              "#46039f"
             ],
             [
              0.2222222222222222,
              "#7201a8"
             ],
             [
              0.3333333333333333,
              "#9c179e"
             ],
             [
              0.4444444444444444,
              "#bd3786"
             ],
             [
              0.5555555555555556,
              "#d8576b"
             ],
             [
              0.6666666666666666,
              "#ed7953"
             ],
             [
              0.7777777777777778,
              "#fb9f3a"
             ],
             [
              0.8888888888888888,
              "#fdca26"
             ],
             [
              1,
              "#f0f921"
             ]
            ],
            "type": "histogram2d"
           }
          ],
          "histogram2dcontour": [
           {
            "colorbar": {
             "outlinewidth": 0,
             "ticks": ""
            },
            "colorscale": [
             [
              0,
              "#0d0887"
             ],
             [
              0.1111111111111111,
              "#46039f"
             ],
             [
              0.2222222222222222,
              "#7201a8"
             ],
             [
              0.3333333333333333,
              "#9c179e"
             ],
             [
              0.4444444444444444,
              "#bd3786"
             ],
             [
              0.5555555555555556,
              "#d8576b"
             ],
             [
              0.6666666666666666,
              "#ed7953"
             ],
             [
              0.7777777777777778,
              "#fb9f3a"
             ],
             [
              0.8888888888888888,
              "#fdca26"
             ],
             [
              1,
              "#f0f921"
             ]
            ],
            "type": "histogram2dcontour"
           }
          ],
          "mesh3d": [
           {
            "colorbar": {
             "outlinewidth": 0,
             "ticks": ""
            },
            "type": "mesh3d"
           }
          ],
          "parcoords": [
           {
            "line": {
             "colorbar": {
              "outlinewidth": 0,
              "ticks": ""
             }
            },
            "type": "parcoords"
           }
          ],
          "pie": [
           {
            "automargin": true,
            "type": "pie"
           }
          ],
          "scatter": [
           {
            "fillpattern": {
             "fillmode": "overlay",
             "size": 10,
             "solidity": 0.2
            },
            "type": "scatter"
           }
          ],
          "scatter3d": [
           {
            "line": {
             "colorbar": {
              "outlinewidth": 0,
              "ticks": ""
             }
            },
            "marker": {
             "colorbar": {
              "outlinewidth": 0,
              "ticks": ""
             }
            },
            "type": "scatter3d"
           }
          ],
          "scattercarpet": [
           {
            "marker": {
             "colorbar": {
              "outlinewidth": 0,
              "ticks": ""
             }
            },
            "type": "scattercarpet"
           }
          ],
          "scattergeo": [
           {
            "marker": {
             "colorbar": {
              "outlinewidth": 0,
              "ticks": ""
             }
            },
            "type": "scattergeo"
           }
          ],
          "scattergl": [
           {
            "marker": {
             "colorbar": {
              "outlinewidth": 0,
              "ticks": ""
             }
            },
            "type": "scattergl"
           }
          ],
          "scattermapbox": [
           {
            "marker": {
             "colorbar": {
              "outlinewidth": 0,
              "ticks": ""
             }
            },
            "type": "scattermapbox"
           }
          ],
          "scatterpolar": [
           {
            "marker": {
             "colorbar": {
              "outlinewidth": 0,
              "ticks": ""
             }
            },
            "type": "scatterpolar"
           }
          ],
          "scatterpolargl": [
           {
            "marker": {
             "colorbar": {
              "outlinewidth": 0,
              "ticks": ""
             }
            },
            "type": "scatterpolargl"
           }
          ],
          "scatterternary": [
           {
            "marker": {
             "colorbar": {
              "outlinewidth": 0,
              "ticks": ""
             }
            },
            "type": "scatterternary"
           }
          ],
          "surface": [
           {
            "colorbar": {
             "outlinewidth": 0,
             "ticks": ""
            },
            "colorscale": [
             [
              0,
              "#0d0887"
             ],
             [
              0.1111111111111111,
              "#46039f"
             ],
             [
              0.2222222222222222,
              "#7201a8"
             ],
             [
              0.3333333333333333,
              "#9c179e"
             ],
             [
              0.4444444444444444,
              "#bd3786"
             ],
             [
              0.5555555555555556,
              "#d8576b"
             ],
             [
              0.6666666666666666,
              "#ed7953"
             ],
             [
              0.7777777777777778,
              "#fb9f3a"
             ],
             [
              0.8888888888888888,
              "#fdca26"
             ],
             [
              1,
              "#f0f921"
             ]
            ],
            "type": "surface"
           }
          ],
          "table": [
           {
            "cells": {
             "fill": {
              "color": "#EBF0F8"
             },
             "line": {
              "color": "white"
             }
            },
            "header": {
             "fill": {
              "color": "#C8D4E3"
             },
             "line": {
              "color": "white"
             }
            },
            "type": "table"
           }
          ]
         },
         "layout": {
          "annotationdefaults": {
           "arrowcolor": "#2a3f5f",
           "arrowhead": 0,
           "arrowwidth": 1
          },
          "autotypenumbers": "strict",
          "coloraxis": {
           "colorbar": {
            "outlinewidth": 0,
            "ticks": ""
           }
          },
          "colorscale": {
           "diverging": [
            [
             0,
             "#8e0152"
            ],
            [
             0.1,
             "#c51b7d"
            ],
            [
             0.2,
             "#de77ae"
            ],
            [
             0.3,
             "#f1b6da"
            ],
            [
             0.4,
             "#fde0ef"
            ],
            [
             0.5,
             "#f7f7f7"
            ],
            [
             0.6,
             "#e6f5d0"
            ],
            [
             0.7,
             "#b8e186"
            ],
            [
             0.8,
             "#7fbc41"
            ],
            [
             0.9,
             "#4d9221"
            ],
            [
             1,
             "#276419"
            ]
           ],
           "sequential": [
            [
             0,
             "#0d0887"
            ],
            [
             0.1111111111111111,
             "#46039f"
            ],
            [
             0.2222222222222222,
             "#7201a8"
            ],
            [
             0.3333333333333333,
             "#9c179e"
            ],
            [
             0.4444444444444444,
             "#bd3786"
            ],
            [
             0.5555555555555556,
             "#d8576b"
            ],
            [
             0.6666666666666666,
             "#ed7953"
            ],
            [
             0.7777777777777778,
             "#fb9f3a"
            ],
            [
             0.8888888888888888,
             "#fdca26"
            ],
            [
             1,
             "#f0f921"
            ]
           ],
           "sequentialminus": [
            [
             0,
             "#0d0887"
            ],
            [
             0.1111111111111111,
             "#46039f"
            ],
            [
             0.2222222222222222,
             "#7201a8"
            ],
            [
             0.3333333333333333,
             "#9c179e"
            ],
            [
             0.4444444444444444,
             "#bd3786"
            ],
            [
             0.5555555555555556,
             "#d8576b"
            ],
            [
             0.6666666666666666,
             "#ed7953"
            ],
            [
             0.7777777777777778,
             "#fb9f3a"
            ],
            [
             0.8888888888888888,
             "#fdca26"
            ],
            [
             1,
             "#f0f921"
            ]
           ]
          },
          "colorway": [
           "#636efa",
           "#EF553B",
           "#00cc96",
           "#ab63fa",
           "#FFA15A",
           "#19d3f3",
           "#FF6692",
           "#B6E880",
           "#FF97FF",
           "#FECB52"
          ],
          "font": {
           "color": "#2a3f5f"
          },
          "geo": {
           "bgcolor": "white",
           "lakecolor": "white",
           "landcolor": "#E5ECF6",
           "showlakes": true,
           "showland": true,
           "subunitcolor": "white"
          },
          "hoverlabel": {
           "align": "left"
          },
          "hovermode": "closest",
          "mapbox": {
           "style": "light"
          },
          "paper_bgcolor": "white",
          "plot_bgcolor": "#E5ECF6",
          "polar": {
           "angularaxis": {
            "gridcolor": "white",
            "linecolor": "white",
            "ticks": ""
           },
           "bgcolor": "#E5ECF6",
           "radialaxis": {
            "gridcolor": "white",
            "linecolor": "white",
            "ticks": ""
           }
          },
          "scene": {
           "xaxis": {
            "backgroundcolor": "#E5ECF6",
            "gridcolor": "white",
            "gridwidth": 2,
            "linecolor": "white",
            "showbackground": true,
            "ticks": "",
            "zerolinecolor": "white"
           },
           "yaxis": {
            "backgroundcolor": "#E5ECF6",
            "gridcolor": "white",
            "gridwidth": 2,
            "linecolor": "white",
            "showbackground": true,
            "ticks": "",
            "zerolinecolor": "white"
           },
           "zaxis": {
            "backgroundcolor": "#E5ECF6",
            "gridcolor": "white",
            "gridwidth": 2,
            "linecolor": "white",
            "showbackground": true,
            "ticks": "",
            "zerolinecolor": "white"
           }
          },
          "shapedefaults": {
           "line": {
            "color": "#2a3f5f"
           }
          },
          "ternary": {
           "aaxis": {
            "gridcolor": "white",
            "linecolor": "white",
            "ticks": ""
           },
           "baxis": {
            "gridcolor": "white",
            "linecolor": "white",
            "ticks": ""
           },
           "bgcolor": "#E5ECF6",
           "caxis": {
            "gridcolor": "white",
            "linecolor": "white",
            "ticks": ""
           }
          },
          "title": {
           "x": 0.05
          },
          "xaxis": {
           "automargin": true,
           "gridcolor": "white",
           "linecolor": "white",
           "ticks": "",
           "title": {
            "standoff": 15
           },
           "zerolinecolor": "white",
           "zerolinewidth": 2
          },
          "yaxis": {
           "automargin": true,
           "gridcolor": "white",
           "linecolor": "white",
           "ticks": "",
           "title": {
            "standoff": 15
           },
           "zerolinecolor": "white",
           "zerolinewidth": 2
          }
         }
        },
        "title": {
         "text": "Top 50 Drugs: Claims, Day Supply, and Drug Costs"
        },
        "xaxis": {
         "title": {
          "text": "Generic Drug Name"
         }
        },
        "yaxis": {
         "title": {
          "text": "Millions"
         }
        }
       }
      }
     },
     "metadata": {},
     "output_type": "display_data"
    }
   ],
   "source": [
    "trace1 = go.Bar(\n",
    "    x=drug_names,\n",
    "    y=total_claims,\n",
    "    name='Total Claims'\n",
    ")\n",
    "trace2 = go.Bar(\n",
    "    x=drug_names,\n",
    "    y=total_day_supply,\n",
    "    name='Total Day Supply'\n",
    ")\n",
    "trace3 = go.Bar(\n",
    "    x=drug_names,\n",
    "    y=total_drug_cost,\n",
    "    name='Total Drug Cost'\n",
    ")\n",
    "\n",
    "data = [trace1, trace2, trace3]\n",
    "layout = go.Layout(\n",
    "    barmode='group',\n",
    "    margin=dict(b=200),  # Adjust bottom margin to prevent labels from being cut off\n",
    "    title='Top 50 Drugs: Claims, Day Supply, and Drug Costs',\n",
    "    xaxis=dict(title='Generic Drug Name'),\n",
    "    yaxis=dict(title='Millions')\n",
    ")\n",
    "\n",
    "fig = go.Figure(data=data, layout=layout)\n",
    "iplot(fig, filename='grouped-bar')"
   ]
  },
  {
   "cell_type": "markdown",
   "metadata": {
    "id": "1gjnRjg4jDt7"
   },
   "source": [
    "# Interpretation\n",
    "\n",
    "*   Highest Costs: Certain drugs like Apixaban stand out for high drug costs.\n",
    "*   High Claims and Supply: Drugs like Atorvastatin Calcium and Amlodipine Besylate show high total claims and day supply.\n",
    "\n",
    "This visualization helps compare the top drugs across multiple metrics, highlighting those with significant costs, claims, and supply."
   ]
  },
  {
   "cell_type": "markdown",
   "metadata": {
    "id": "sT-LGPhOkcuP"
   },
   "source": [
    "# Feature Selection and Scaling"
   ]
  },
  {
   "cell_type": "code",
   "execution_count": null,
   "metadata": {
    "colab": {
     "background_save": true
    },
    "id": "1bDM4LAIln1I",
    "outputId": "0d78da0a-33d8-4413-e937-d6ba5375e3ae"
   },
   "outputs": [
    {
     "name": "stderr",
     "output_type": "stream",
     "text": [
      "                                                                                \r"
     ]
    },
    {
     "name": "stdout",
     "output_type": "stream",
     "text": [
      "+--------------------+--------------------------+-------------------------+------------------------+---------+-------+---------+------------------+--------------------+--------------------+-------------------+--------------------+\n",
      "|           Gnrc_Name|total_claim_count_millions|total_day_supply_millions|total_drug_cost_millions|max_claim|max_day| max_cost|         var_claim|             var_day|            var_cost|       features_raw|     features_scaled|\n",
      "+--------------------+--------------------------+-------------------------+------------------------+---------+-------+---------+------------------+--------------------+--------------------+-------------------+--------------------+\n",
      "|Atorvastatin Calcium|                      64.0|                   4635.0|                   842.0|    15390| 473095| 403073.3| 57025.80972718224|2.7869601422890836E8|1.1972733473461762E7|[64.0,4635.0,842.0]|[18.5605182978042...|\n",
      "| Amlodipine Besylate|                      45.0|                   3153.0|                   340.0|     8656| 300387| 263405.6|30880.424449285954|1.3614320671636102E8|  2422886.1357891015|[45.0,3153.0,340.0]|[13.0503644281436...|\n",
      "|Levothyroxine Sodium|                      44.0|                   2965.0|                   995.0|     8757| 264051|354586.21| 25710.17573085683| 1.000582137910696E8|1.7800628850239847E7|[44.0,2965.0,995.0]|[12.7603563297404...|\n",
      "|          Lisinopril|                      35.0|                   2534.0|                   265.0|     5993| 346309|182565.96|16585.067411793396| 8.307457301728874E7|  1377699.0879724144|[35.0,2534.0,265.0]|[10.1502834441116...|\n",
      "|          Gabapentin|                      33.0|                   1492.0|                   691.0|     8622| 260331|220690.72| 20142.12573845505|3.1870741288449284E7|   8984111.318702612|[33.0,1492.0,691.0]|[9.57026724730531...|\n",
      "+--------------------+--------------------------+-------------------------+------------------------+---------+-------+---------+------------------+--------------------+--------------------+-------------------+--------------------+\n",
      "only showing top 5 rows\n",
      "\n"
     ]
    }
   ],
   "source": [
    "\n",
    "# Feature Selection and Scaling\n",
    "from pyspark.ml.feature import VectorAssembler, StandardScaler\n",
    "\n",
    "# Selecting relevant features for unsupervised learning\n",
    "feature_cols = [\"total_claim_count_millions\", \"total_day_supply_millions\", \"total_drug_cost_millions\"]\n",
    "assembler = VectorAssembler(inputCols=feature_cols, outputCol=\"features_raw\")\n",
    "data_with_features = assembler.transform(most_pres_drug)\n",
    "\n",
    "# Standardizing the features\n",
    "scaler = StandardScaler(inputCol=\"features_raw\", outputCol=\"features_scaled\", withStd=True, withMean=False)\n",
    "scaler_model = scaler.fit(data_with_features)\n",
    "scaled_data = scaler_model.transform(data_with_features)\n",
    "scaled_data.show(5)\n"
   ]
  },
  {
   "cell_type": "markdown",
   "metadata": {
    "id": "DA1Hpk3slMGt"
   },
   "source": [
    "# KMeans clustering to group the drugs based on the scaled features"
   ]
  },
  {
   "cell_type": "code",
   "execution_count": null,
   "metadata": {
    "colab": {
     "background_save": true
    },
    "id": "scdf7uYUDcWw",
    "outputId": "ee108664-70ed-4bd6-a59c-229975b98081"
   },
   "outputs": [
    {
     "name": "stderr",
     "output_type": "stream",
     "text": [
      "24/12/09 22:58:46 WARN InstanceBuilder: Failed to load implementation from:dev.ludovic.netlib.blas.JNIBLAS\n",
      "24/12/09 22:58:46 WARN InstanceBuilder: Failed to load implementation from:dev.ludovic.netlib.blas.VectorBLAS\n",
      "                                                                                \r"
     ]
    },
    {
     "name": "stdout",
     "output_type": "stream",
     "text": [
      "+--------------------+-------+\n",
      "|           Gnrc_Name|cluster|\n",
      "+--------------------+-------+\n",
      "|Atorvastatin Calcium|      2|\n",
      "| Amlodipine Besylate|      2|\n",
      "|Levothyroxine Sodium|      2|\n",
      "|          Lisinopril|      2|\n",
      "|          Gabapentin|      2|\n",
      "|       Metformin Hcl|      2|\n",
      "|  Losartan Potassium|      2|\n",
      "|Metoprolol Succinate|      2|\n",
      "|          Omeprazole|      2|\n",
      "|          Furosemide|      1|\n",
      "+--------------------+-------+\n",
      "only showing top 10 rows\n",
      "\n"
     ]
    },
    {
     "name": "stderr",
     "output_type": "stream",
     "text": [
      "                                                                                \r"
     ]
    },
    {
     "data": {
      "image/png": "[encoded data removed]",
      "text/plain": [
       "<Figure size 1000x700 with 1 Axes>"
      ]
     },
     "metadata": {},
     "output_type": "display_data"
    }
   ],
   "source": [
    "\n",
    "# DBSCAN Implementation\n",
    "from pyspark.ml.clustering import BisectingKMeans\n",
    "from pyspark.ml.clustering import KMeans\n",
    "\n",
    "# Clustering with KMeans as an alternative to DBSCAN\n",
    "kmeans = KMeans(k=3, seed=1, featuresCol=\"features_scaled\", predictionCol=\"cluster\")\n",
    "model = kmeans.fit(scaled_data)\n",
    "clusters = model.transform(scaled_data)\n",
    "\n",
    "clusters.select(\"Gnrc_Name\", \"cluster\").show(10)\n",
    "\n",
    "# Visualization preparation\n",
    "import pandas as pd\n",
    "import matplotlib.pyplot as plt\n",
    "pandas_df = clusters.select(\"Gnrc_Name\", \"features_scaled\", \"cluster\").toPandas()\n",
    "\n",
    "# Visualizing clusters\n",
    "plt.figure(figsize=(10, 7))\n",
    "plt.scatter(pandas_df[\"features_scaled\"].apply(lambda x: x[0]),\n",
    "            pandas_df[\"features_scaled\"].apply(lambda x: x[1]),\n",
    "            c=pandas_df[\"cluster\"], cmap=\"viridis\")\n",
    "plt.xlabel(\"Feature 1\")\n",
    "plt.ylabel(\"Feature 2\")\n",
    "plt.title(\"Cluster Assignments\")\n",
    "plt.show()\n"
   ]
  },
  {
   "cell_type": "markdown",
   "metadata": {
    "id": "kygJMt0plWZ4"
   },
   "source": [
    "# Interpretation\n",
    "The visualization shows three distinct clusters, indicating that the drugs have been grouped based on their feature similarities."
   ]
  },
  {
   "cell_type": "markdown",
   "metadata": {
    "id": "ichnIs01ll5h"
   },
   "source": [
    "# Anomaly Detection Using Isolation Forest"
   ]
  },
  {
   "cell_type": "code",
   "execution_count": null,
   "metadata": {
    "colab": {
     "background_save": true
    },
    "id": "Tvpfk1TiDcWw",
    "outputId": "ef248b0f-a789-4a20-bf70-834f03941a60"
   },
   "outputs": [
    {
     "name": "stderr",
     "output_type": "stream",
     "text": [
      "                                                                                \r"
     ]
    },
    {
     "data": {
      "image/png": "[encoded data removed]",
      "text/plain": [
       "<Figure size 1000x700 with 1 Axes>"
      ]
     },
     "metadata": {},
     "output_type": "display_data"
    }
   ],
   "source": [
    "\n",
    "# Isolation Forest for Anomaly Detection\n",
    "from pyspark.sql.functions import col\n",
    "from sklearn.ensemble import IsolationForest\n",
    "\n",
    "# Converting Spark DataFrame to Pandas for use with IsolationForest\n",
    "features_pd = scaled_data.select(\"features_scaled\").toPandas()\n",
    "feature_array = features_pd[\"features_scaled\"].apply(lambda x: [x[i] for i in range(len(x))]).tolist()\n",
    "\n",
    "# Applying Isolation Forest\n",
    "iso_forest = IsolationForest(contamination=0.05, random_state=42)\n",
    "anomalies = iso_forest.fit_predict(feature_array)\n",
    "\n",
    "# Adding anomaly predictions to the DataFrame\n",
    "pandas_df[\"anomaly\"] = anomalies\n",
    "pandas_df[\"anomaly\"] = pandas_df[\"anomaly\"].apply(lambda x: \"Anomaly\" if x == -1 else \"Normal\")\n",
    "\n",
    "# Visualize anomalies\n",
    "plt.figure(figsize=(10, 7))\n",
    "plt.scatter(pandas_df[\"features_scaled\"].apply(lambda x: x[0]),\n",
    "            pandas_df[\"features_scaled\"].apply(lambda x: x[1]),\n",
    "            c=pandas_df[\"anomaly\"].map({\"Anomaly\": \"red\", \"Normal\": \"green\"}))\n",
    "plt.xlabel(\"Feature 1\")\n",
    "plt.ylabel(\"Feature 2\")\n",
    "plt.title(\"Anomaly Detection Results\")\n",
    "plt.show()\n"
   ]
  },
  {
   "cell_type": "markdown",
   "metadata": {
    "id": "-7gZjC2Sl6C0"
   },
   "source": [
    "# Interpretation\n",
    "\n",
    "*   Red Points: Identified anomalies (outliers)\n",
    "*   Green Points: Normal data points.\n",
    "\n",
    "The plot shows that anomalies are distributed away from the cluster of normal points.\n",
    "\n"
   ]
  },
  {
   "cell_type": "markdown",
   "metadata": {
    "id": "A-AlLNf4m_wo"
   },
   "source": [
    "# Simulating Labels for Supervised Learning"
   ]
  },
  {
   "cell_type": "code",
   "execution_count": null,
   "metadata": {
    "colab": {
     "background_save": true
    },
    "id": "zd5hZucZDcWx",
    "outputId": "0acab6b9-42c0-43d3-a1cc-a1b7ea73da74"
   },
   "outputs": [
    {
     "name": "stderr",
     "output_type": "stream",
     "text": [
      "[Stage 206:=================================================>     (25 + 3) / 28]\r"
     ]
    },
    {
     "name": "stdout",
     "output_type": "stream",
     "text": [
      "+--------------------+--------------------------+-------------------------+------------------------+---------+-------+---------+------------------+--------------------+--------------------+-------------------+--------------------+-----+\n",
      "|           Gnrc_Name|total_claim_count_millions|total_day_supply_millions|total_drug_cost_millions|max_claim|max_day| max_cost|         var_claim|             var_day|            var_cost|       features_raw|     features_scaled|label|\n",
      "+--------------------+--------------------------+-------------------------+------------------------+---------+-------+---------+------------------+--------------------+--------------------+-------------------+--------------------+-----+\n",
      "|Atorvastatin Calcium|                      64.0|                   4635.0|                   842.0|    15390| 473095| 403073.3| 57025.80972718224|2.7869601422890836E8|1.1972733473461762E7|[64.0,4635.0,842.0]|[18.5605182978042...|    1|\n",
      "| Amlodipine Besylate|                      45.0|                   3153.0|                   340.0|     8656| 300387| 263405.6|30880.424449285954|1.3614320671636102E8|  2422886.1357891015|[45.0,3153.0,340.0]|[13.0503644281436...|    0|\n",
      "|Levothyroxine Sodium|                      44.0|                   2965.0|                   995.0|     8757| 264051|354586.21| 25710.17573085683| 1.000582137910696E8|1.7800628850239847E7|[44.0,2965.0,995.0]|[12.7603563297404...|    1|\n",
      "|          Lisinopril|                      35.0|                   2534.0|                   265.0|     5993| 346309|182565.96|16585.067411793396| 8.307457301728874E7|  1377699.0879724144|[35.0,2534.0,265.0]|[10.1502834441116...|    0|\n",
      "|          Gabapentin|                      33.0|                   1492.0|                   691.0|     8622| 260331|220690.72| 20142.12573845505|3.1870741288449284E7|   8984111.318702612|[33.0,1492.0,691.0]|[9.57026724730531...|    1|\n",
      "+--------------------+--------------------------+-------------------------+------------------------+---------+-------+---------+------------------+--------------------+--------------------+-------------------+--------------------+-----+\n",
      "only showing top 5 rows\n",
      "\n"
     ]
    },
    {
     "name": "stderr",
     "output_type": "stream",
     "text": [
      "                                                                                \r"
     ]
    }
   ],
   "source": [
    "\n",
    "# Simulating Labels for Supervised Learning\n",
    "import numpy as np\n",
    "from pyspark.sql.functions import col\n",
    "\n",
    "# Adding a simulated label column for demonstration (1 = Fraud, 0 = Not Fraud)\n",
    "# This simulates labels for a binary classification task\n",
    "np.random.seed(42)\n",
    "label_data = scaled_data.withColumn(\"label\", col(\"total_drug_cost_millions\") > 500)\n",
    "label_data = label_data.withColumn(\"label\", label_data[\"label\"].cast(\"integer\"))\n",
    "label_data.show(5)\n"
   ]
  },
  {
   "cell_type": "markdown",
   "metadata": {
    "id": "V6a3NRstnKlH"
   },
   "source": [
    "# Preparing Data for Supervised Learning"
   ]
  },
  {
   "cell_type": "markdown",
   "metadata": {
    "id": "FHPjgc_DYFYI"
   },
   "source": [
    "## Class Weight Calculation to address Class Imbalance"
   ]
  },
  {
   "cell_type": "code",
   "execution_count": null,
   "metadata": {
    "colab": {
     "background_save": true
    },
    "id": "sZLWRHqbDcWx",
    "outputId": "f3fccec5-be63-4e19-866c-a77e5a010b9b"
   },
   "outputs": [
    {
     "name": "stderr",
     "output_type": "stream",
     "text": [
      "                                                                                \r"
     ]
    }
   ],
   "source": [
    "from pyspark.sql.functions import col, lit, when, sum as spark_sum\n",
    "\n",
    "# Calculate class counts using PySpark\n",
    "class_counts_df = label_data.groupBy(\"label\").count()\n",
    "\n",
    "# Add total count as a constant column for all rows\n",
    "total_count = label_data.count()\n",
    "class_counts_df = class_counts_df.withColumn(\"total_count\", lit(total_count))\n",
    "\n",
    "# Calculate class weights (total_count / class_count)\n",
    "class_counts_df = class_counts_df.withColumn(\n",
    "    \"class_weight\", col(\"total_count\") / col(\"count\")\n",
    ")\n",
    "\n",
    "# Collect weights into a dictionary for reference\n",
    "class_weights = {row[\"label\"]: row[\"class_weight\"] for row in class_counts_df.collect()}\n"
   ]
  },
  {
   "cell_type": "markdown",
   "metadata": {
    "id": "h8wbLTFsYjPT"
   },
   "source": [
    "## Adding Class Weights to the Dataset"
   ]
  },
  {
   "cell_type": "code",
   "execution_count": null,
   "metadata": {
    "colab": {
     "background_save": true
    },
    "id": "5Z5qZ4ny0Vv1"
   },
   "outputs": [],
   "source": [
    "# Broadcast the weights and add them to the dataset\n",
    "label_data_with_weights = label_data.join(\n",
    "    class_counts_df.select(\"label\", \"class_weight\"), on=\"label\", how=\"left\"\n",
    ")\n"
   ]
  },
  {
   "cell_type": "code",
   "execution_count": null,
   "metadata": {
    "colab": {
     "background_save": true
    },
    "id": "beZOQJ890Wo7",
    "outputId": "829de057-09a1-4572-fc8d-4c11340636e8"
   },
   "outputs": [
    {
     "name": "stdout",
     "output_type": "stream",
     "text": [
      "Class Weights: {1: 22.818181818181817, 0: 1.0458333333333334}\n"
     ]
    }
   ],
   "source": [
    "print(f\"Class Weights: {class_weights}\")\n"
   ]
  },
  {
   "cell_type": "markdown",
   "metadata": {
    "id": "HsJXQoDxYnYX"
   },
   "source": [
    "## Data Preparation and Splitting"
   ]
  },
  {
   "cell_type": "code",
   "execution_count": null,
   "metadata": {
    "colab": {
     "background_save": true
    },
    "id": "Ol6wFth00XzK"
   },
   "outputs": [],
   "source": [
    "final_data = label_data_with_weights.withColumnRenamed(\"features_scaled\", \"features\").select(\n",
    "    \"features\", \"label\", \"class_weight\"\n",
    ")\n",
    "\n",
    "# Split data into training and testing\n",
    "train_data, test_data = final_data.randomSplit([0.8, 0.2], seed=42)\n",
    "\n",
    "\n"
   ]
  },
  {
   "cell_type": "markdown",
   "metadata": {
    "id": "W8lfwtEAnPuy"
   },
   "source": [
    "# Training a Random Forest Classifier"
   ]
  },
  {
   "cell_type": "code",
   "execution_count": null,
   "metadata": {
    "colab": {
     "background_save": true
    },
    "id": "rHrrbPvmDcWx",
    "outputId": "edbfd1e2-4790-40ba-f099-edf7f811c843"
   },
   "outputs": [
    {
     "name": "stderr",
     "output_type": "stream",
     "text": [
      "                                                                                \r"
     ]
    }
   ],
   "source": [
    "from pyspark.ml.classification import RandomForestClassifier\n",
    "\n",
    "# Train Random Forest with weights\n",
    "rf = RandomForestClassifier(featuresCol=\"features\", labelCol=\"label\", weightCol=\"class_weight\", numTrees=20, seed=42)\n",
    "rf_model_weighted = rf.fit(train_data)\n"
   ]
  },
  {
   "cell_type": "code",
   "execution_count": null,
   "metadata": {
    "colab": {
     "background_save": true
    },
    "id": "u13nnGbv0eDC",
    "outputId": "2069c294-51c7-4eb8-cbce-041eee85889c"
   },
   "outputs": [
    {
     "name": "stderr",
     "output_type": "stream",
     "text": [
      "                                                                                \r"
     ]
    },
    {
     "name": "stdout",
     "output_type": "stream",
     "text": [
      "ROC-AUC for Weighted Random Forest: 1.00\n"
     ]
    }
   ],
   "source": [
    "from pyspark.ml.evaluation import BinaryClassificationEvaluator\n",
    "\n",
    "# Make predictions and evaluate\n",
    "rf_predictions_weighted = rf_model_weighted.transform(test_data)\n",
    "evaluator = BinaryClassificationEvaluator(labelCol=\"label\", metricName=\"areaUnderROC\")\n",
    "roc_auc_weighted = evaluator.evaluate(rf_predictions_weighted)\n",
    "\n",
    "print(f\"ROC-AUC for Weighted Random Forest: {roc_auc_weighted:.2f}\")\n"
   ]
  },
  {
   "cell_type": "markdown",
   "metadata": {
    "id": "SJiOCrgunSyG"
   },
   "source": [
    "# Visualizing Feature Importances"
   ]
  },
  {
   "cell_type": "code",
   "execution_count": null,
   "metadata": {
    "colab": {
     "background_save": true
    },
    "id": "5jLCr3q2DcWy",
    "outputId": "8c0a22f5-1089-47fd-ad17-7fe43fb9f1e7"
   },
   "outputs": [
    {
     "data": {
      "image/png": "[encoded data removed]",
      "text/plain": [
       "<Figure size 800x600 with 1 Axes>"
      ]
     },
     "metadata": {},
     "output_type": "display_data"
    }
   ],
   "source": [
    "\n",
    "# Visualizing Feature Importances\n",
    "import matplotlib.pyplot as plt\n",
    "\n",
    "# Extracting feature importances from the Random Forest model\n",
    "importances = rf_model_weighted.featureImportances.toArray()\n",
    "feature_names = [\"total_claim_count_millions\", \"total_day_supply_millions\", \"total_drug_cost_millions\"]\n",
    "\n",
    "# Plotting\n",
    "plt.figure(figsize=(8, 6))\n",
    "plt.barh(feature_names, importances, align=\"center\")\n",
    "plt.xlabel(\"Feature Importance\")\n",
    "plt.title(\"Feature Importances from Random Forest\")\n",
    "plt.show()\n"
   ]
  },
  {
   "cell_type": "markdown",
   "metadata": {
    "id": "AprAY9PWhrSN"
   },
   "source": [
    "# Interpretation\n",
    "\n",
    "The total drug costs has been the most important feature for predicting fraud based on the above plot"
   ]
  },
  {
   "cell_type": "markdown",
   "metadata": {
    "id": "9-7IAcJGi22B"
   },
   "source": [
    "# Gradient Boosting, Model Evaluation, and Misclassification Analysis\n"
   ]
  },
  {
   "cell_type": "markdown",
   "metadata": {
    "id": "UZAelZcjZKRE"
   },
   "source": [
    "## Gradient Boosting for Fraud Detection"
   ]
  },
  {
   "cell_type": "code",
   "execution_count": null,
   "metadata": {
    "colab": {
     "background_save": true
    },
    "id": "AtuaCO06DcWy",
    "outputId": "58bdbc67-73fe-4710-d56f-d318978080ca"
   },
   "outputs": [
    {
     "name": "stderr",
     "output_type": "stream",
     "text": [
      "                                                                                \r"
     ]
    },
    {
     "name": "stdout",
     "output_type": "stream",
     "text": [
      "ROC-AUC for Gradient Boosted Trees: 1.00\n"
     ]
    },
    {
     "name": "stderr",
     "output_type": "stream",
     "text": [
      "                                                                                \r"
     ]
    },
    {
     "name": "stdout",
     "output_type": "stream",
     "text": [
      "+---------+-----+----------+--------------------+\n",
      "| features|label|prediction|         probability|\n",
      "+---------+-----+----------+--------------------+\n",
      "|(3,[],[])|    0|       0.0|[0.97847911444165...|\n",
      "|(3,[],[])|    0|       0.0|[0.97847911444165...|\n",
      "|(3,[],[])|    0|       0.0|[0.97847911444165...|\n",
      "|(3,[],[])|    0|       0.0|[0.97847911444165...|\n",
      "|(3,[],[])|    0|       0.0|[0.97847911444165...|\n",
      "+---------+-----+----------+--------------------+\n",
      "only showing top 5 rows\n",
      "\n"
     ]
    }
   ],
   "source": [
    "\n",
    "# Optional: Gradient Boosting (XGBoost)\n",
    "from pyspark.ml.classification import GBTClassifier\n",
    "\n",
    "# Training Gradient Boosted Trees\n",
    "gbt = GBTClassifier(featuresCol=\"features\", labelCol=\"label\", maxIter=50, seed=42)\n",
    "gbt_model = gbt.fit(train_data)\n",
    "\n",
    "# Evaluating GBT Model\n",
    "gbt_predictions = gbt_model.transform(test_data)\n",
    "roc_auc_gbt = evaluator.evaluate(gbt_predictions)\n",
    "\n",
    "print(f\"ROC-AUC for Gradient Boosted Trees: {roc_auc_gbt:.2f}\")\n",
    "\n",
    "# Displaying a few predictions\n",
    "gbt_predictions.select(\"features\", \"label\", \"prediction\", \"probability\").show(5)\n"
   ]
  },
  {
   "cell_type": "markdown",
   "metadata": {
    "id": "gn8f36kbZRr1"
   },
   "source": [
    "## Model Evaluation (Precision, Recall, F1-Score)"
   ]
  },
  {
   "cell_type": "code",
   "execution_count": null,
   "metadata": {
    "colab": {
     "background_save": true
    },
    "id": "CPCfln0V0j8P",
    "outputId": "d161acb6-5c1c-4388-d495-05c5e3ab014a"
   },
   "outputs": [
    {
     "name": "stderr",
     "output_type": "stream",
     "text": [
      "                                                                                \r"
     ]
    },
    {
     "name": "stdout",
     "output_type": "stream",
     "text": [
      "Precision: 0.99\n",
      "Recall: 0.99\n",
      "F1-Score: 0.99\n"
     ]
    }
   ],
   "source": [
    "from pyspark.ml.evaluation import MulticlassClassificationEvaluator\n",
    "\n",
    "# Precision and Recall\n",
    "evaluator_precision = MulticlassClassificationEvaluator(labelCol=\"label\", metricName=\"weightedPrecision\")\n",
    "evaluator_recall = MulticlassClassificationEvaluator(labelCol=\"label\", metricName=\"weightedRecall\")\n",
    "\n",
    "precision = evaluator_precision.evaluate(rf_predictions_weighted)\n",
    "recall = evaluator_recall.evaluate(rf_predictions_weighted)\n",
    "\n",
    "# F1-Score\n",
    "evaluator_f1 = MulticlassClassificationEvaluator(labelCol=\"label\", metricName=\"f1\")\n",
    "f1_score = evaluator_f1.evaluate(rf_predictions_weighted)\n",
    "\n",
    "print(f\"Precision: {precision:.2f}\")\n",
    "print(f\"Recall: {recall:.2f}\")\n",
    "print(f\"F1-Score: {f1_score:.2f}\")\n"
   ]
  },
  {
   "cell_type": "markdown",
   "metadata": {
    "id": "IGooXmUhZV-Q"
   },
   "source": [
    "## Confusion Matrix"
   ]
  },
  {
   "cell_type": "code",
   "execution_count": null,
   "metadata": {
    "colab": {
     "background_save": true
    },
    "id": "BOxd0uIU0ly_",
    "outputId": "7494d10d-faf3-403c-e4d0-708ff9c9733e"
   },
   "outputs": [
    {
     "name": "stderr",
     "output_type": "stream",
     "text": [
      "                                                                                \r"
     ]
    },
    {
     "name": "stdout",
     "output_type": "stream",
     "text": [
      "+-----+----------+-----+\n",
      "|label|prediction|count|\n",
      "+-----+----------+-----+\n",
      "|    0|       0.0|  286|\n",
      "|    1|       1.0|   15|\n",
      "|    0|       1.0|    3|\n",
      "+-----+----------+-----+\n",
      "\n"
     ]
    }
   ],
   "source": [
    "# Confusion Matrix\n",
    "rf_predictions_weighted.groupBy(\"label\", \"prediction\").count().show()\n"
   ]
  },
  {
   "cell_type": "markdown",
   "metadata": {
    "id": "J7tTE2RfZZBf"
   },
   "source": [
    "## Misclassification Analysis"
   ]
  },
  {
   "cell_type": "code",
   "execution_count": null,
   "metadata": {
    "colab": {
     "background_save": true
    },
    "id": "9hmD6ICZ0mt2",
    "outputId": "7f22af17-0bdb-4790-c2ef-24ef3dc9cfc7"
   },
   "outputs": [
    {
     "name": "stderr",
     "output_type": "stream",
     "text": [
      "                                                                                \r"
     ]
    },
    {
     "name": "stdout",
     "output_type": "stream",
     "text": [
      "+--------------------+-----+----------+--------------------+\n",
      "|            features|label|prediction|         probability|\n",
      "+--------------------+-----+----------+--------------------+\n",
      "|[0.0,0.0135311031...|    0|       1.0|[0.20603971551616...|\n",
      "|[0.0,0.0180414709...|    0|       1.0|[0.24690364923413...|\n",
      "|[0.0,0.0360829418...|    0|       1.0|[0.39305078275443...|\n",
      "+--------------------+-----+----------+--------------------+\n",
      "\n"
     ]
    }
   ],
   "source": [
    "# Misclassifications\n",
    "misclassified = rf_predictions_weighted.filter(rf_predictions_weighted[\"label\"] != rf_predictions_weighted[\"prediction\"])\n",
    "misclassified.select(\"features\", \"label\", \"prediction\", \"probability\").show(5)\n"
   ]
  },
  {
   "cell_type": "markdown",
   "metadata": {
    "id": "a3rhExeTi8uF"
   },
   "source": [
    "# Visualizing Label Distribution"
   ]
  },
  {
   "cell_type": "code",
   "execution_count": null,
   "metadata": {
    "colab": {
     "background_save": true
    },
    "id": "OfoPUzThDcWz",
    "outputId": "8965cff1-0347-4db1-bd69-2bd246b0401f"
   },
   "outputs": [
    {
     "name": "stderr",
     "output_type": "stream",
     "text": [
      "                                                                                \r"
     ]
    },
    {
     "data": {
      "image/png": "[encoded data removed]",
      "text/plain": [
       "<Figure size 600x400 with 1 Axes>"
      ]
     },
     "metadata": {},
     "output_type": "display_data"
    },
    {
     "name": "stderr",
     "output_type": "stream",
     "text": [
      "                                                                                \r"
     ]
    },
    {
     "data": {
      "image/png": "[encoded data removed]",
      "text/plain": [
       "<Figure size 600x400 with 1 Axes>"
      ]
     },
     "metadata": {},
     "output_type": "display_data"
    }
   ],
   "source": [
    "import matplotlib.pyplot as plt\n",
    "\n",
    "# Counting labels\n",
    "label_counts = label_data_with_weights.groupBy(\"label\").count().toPandas()\n",
    "\n",
    "# Plotting\n",
    "plt.figure(figsize=(6, 4))\n",
    "plt.bar(label_counts[\"label\"], label_counts[\"count\"], color=[\"green\", \"red\"], tick_label=[\"Not Fraud\", \"Fraud\"])\n",
    "plt.xlabel(\"Label\")\n",
    "plt.ylabel(\"Count\")\n",
    "plt.title(\"Distribution of Fraud vs Non-Fraud Labels (With Class Weights)\")\n",
    "plt.show()\n",
    "\n",
    "# Extracting class weights for visualization\n",
    "weights_df = label_data_with_weights.groupBy(\"label\").agg({\"class_weight\": \"first\"}).toPandas()\n",
    "\n",
    "# Plotting class weights\n",
    "plt.figure(figsize=(6, 4))\n",
    "plt.bar(weights_df[\"label\"], weights_df[\"first(class_weight)\"], color=[\"blue\", \"orange\"], tick_label=[\"Not Fraud\", \"Fraud\"])\n",
    "plt.xlabel(\"Label\")\n",
    "plt.ylabel(\"Class Weight\")\n",
    "plt.title(\"Class Weights for Fraud vs Non-Fraud\")\n",
    "plt.show()\n"
   ]
  },
  {
   "cell_type": "markdown",
   "metadata": {
    "id": "P5fKisOYi_D2"
   },
   "source": [
    "# Interpretation\n",
    "\n",
    "1.   Top Plot – Distribution of Fraud vs Non-Fraud Labels:\n",
    "\n",
    "  *   Highlights the imbalance in the dataset, with the Fraud class having far more samples compared to the Not Fraud class.\n",
    "\n",
    "\n",
    "2.   Bottom Plot – Class Weights:\n",
    "\n",
    "  *   Demonstrates the adjusted class weights:\n",
    "Higher weight for Not Fraud to balance its lower representation.\n",
    "Lower weight for Fraud due to its higher representation.\n",
    "\n",
    "\n",
    "\n",
    "\n",
    "\n",
    "\n",
    "\n",
    "\n",
    "\n"
   ]
  },
  {
   "cell_type": "markdown",
   "metadata": {
    "id": "EXPkHKaVj5T1"
   },
   "source": [
    "# Feature Relationships by Label Using Pairplot"
   ]
  },
  {
   "cell_type": "code",
   "execution_count": null,
   "metadata": {
    "colab": {
     "background_save": true
    },
    "id": "XQVSsSAcDcWz",
    "outputId": "168fa813-526b-4bae-d5c9-a441b47345ae"
   },
   "outputs": [
    {
     "name": "stderr",
     "output_type": "stream",
     "text": [
      "                                                                                \r"
     ]
    },
    {
     "data": {
      "image/png": "[encoded data removed]",
      "text/plain": [
       "<Figure size 808.875x750 with 12 Axes>"
      ]
     },
     "metadata": {},
     "output_type": "display_data"
    },
    {
     "name": "stderr",
     "output_type": "stream",
     "text": [
      "                                                                                \r"
     ]
    },
    {
     "data": {
      "image/png": "[encoded data removed]",
      "text/plain": [
       "<Figure size 1058.88x1000 with 20 Axes>"
      ]
     },
     "metadata": {},
     "output_type": "display_data"
    }
   ],
   "source": [
    "import seaborn as sns\n",
    "import pandas as pd\n",
    "import matplotlib.pyplot as plt\n",
    "\n",
    "# Convert the data to Pandas for visualization\n",
    "pandas_data = label_data_with_weights.select(\n",
    "    \"total_claim_count_millions\",\n",
    "    \"total_day_supply_millions\",\n",
    "    \"total_drug_cost_millions\",\n",
    "    \"label\"\n",
    ").toPandas()\n",
    "\n",
    "# Pairplot with updated data\n",
    "sns.pairplot(pandas_data, hue=\"label\", diag_kind=\"kde\", palette={0: \"green\", 1: \"red\"})\n",
    "plt.suptitle(\"Feature Relationships by Label (With Class Weights)\", y=1.02)\n",
    "plt.show()\n",
    "\n",
    "# Convert the data to Pandas for visualization, including class weights\n",
    "pandas_data_with_weights = label_data_with_weights.select(\n",
    "    \"total_claim_count_millions\",\n",
    "    \"total_day_supply_millions\",\n",
    "    \"total_drug_cost_millions\",\n",
    "    \"label\",\n",
    "    \"class_weight\"\n",
    ").toPandas()\n",
    "\n",
    "# Pairplot with class weights\n",
    "sns.pairplot(pandas_data_with_weights, hue=\"label\", diag_kind=\"kde\", palette={0: \"green\", 1: \"red\"})\n",
    "plt.suptitle(\"Feature Relationships by Label (With Class Weights)\", y=1.02)\n",
    "plt.show()\n"
   ]
  },
  {
   "cell_type": "markdown",
   "metadata": {
    "id": "6JiYp_XukNZ3"
   },
   "source": [
    "# Interpretation\n",
    "\n",
    "\n",
    "\n",
    "1.   Top plot:\n",
    "It shows how the features relate to each other, with fraud cases clearly distinguished from non-fraud cases:\n",
    "\n",
    "  *   Fraud cases (red) tend to have higher values in total_drug_cost_millions.\n",
    "  *   Non-fraud cases (green) cluster in lower-value regions.\n",
    "2.   Bottom plot: It highlights the distribution of fraud and non-fraud cases, taking class weights into account.\n",
    "\n",
    "  *   Fraud cases have a lower class weight compared to non-fraud cases.\n",
    "  *   The class weights help balance the model by giving higher importance to the minority class during training.\n",
    "\n",
    "\n",
    "\n",
    "\n"
   ]
  },
  {
   "cell_type": "markdown",
   "metadata": {
    "id": "TiuQNGw7l5IJ"
   },
   "source": [
    "# Visualizing Feature Distributions  based on binary labels with Boxplots"
   ]
  },
  {
   "cell_type": "code",
   "execution_count": null,
   "metadata": {
    "colab": {
     "background_save": true
    },
    "id": "48iuf8R7DcW0",
    "outputId": "0d98957d-4573-4da9-c40c-b93a2f163827"
   },
   "outputs": [
    {
     "name": "stdout",
     "output_type": "stream",
     "text": [
      "Unique labels: ['1' '0']\n"
     ]
    },
    {
     "name": "stderr",
     "output_type": "stream",
     "text": [
      "/var/folders/sf/0xjrr9295rbcr7jkyvcdpq300000gn/T/ipykernel_33559/4041052726.py:15: FutureWarning:\n",
      "\n",
      "\n",
      "\n",
      "Passing `palette` without assigning `hue` is deprecated and will be removed in v0.14.0. Assign the `x` variable to `hue` and set `legend=False` for the same effect.\n",
      "\n",
      "\n",
      "/var/folders/sf/0xjrr9295rbcr7jkyvcdpq300000gn/T/ipykernel_33559/4041052726.py:15: FutureWarning:\n",
      "\n",
      "\n",
      "\n",
      "Passing `palette` without assigning `hue` is deprecated and will be removed in v0.14.0. Assign the `x` variable to `hue` and set `legend=False` for the same effect.\n",
      "\n",
      "\n",
      "/var/folders/sf/0xjrr9295rbcr7jkyvcdpq300000gn/T/ipykernel_33559/4041052726.py:15: FutureWarning:\n",
      "\n",
      "\n",
      "\n",
      "Passing `palette` without assigning `hue` is deprecated and will be removed in v0.14.0. Assign the `x` variable to `hue` and set `legend=False` for the same effect.\n",
      "\n",
      "\n"
     ]
    },
    {
     "data": {
      "image/png": "[encoded data removed]",
      "text/plain": [
       "<Figure size 1500x500 with 3 Axes>"
      ]
     },
     "metadata": {},
     "output_type": "display_data"
    }
   ],
   "source": [
    "# Ensure 'label' is numeric and check its unique values\n",
    "pandas_data_with_weights[\"label\"] = pandas_data_with_weights[\"label\"].astype(str)  # Convert to string\n",
    "print(\"Unique labels:\", pandas_data_with_weights[\"label\"].unique())  # Verify label values\n",
    "\n",
    "# Define palette with keys matching the string label values\n",
    "palette = {\"0\": \"green\", \"1\": \"red\"}\n",
    "\n",
    "# Features to plot\n",
    "features = [\"total_claim_count_millions\", \"total_day_supply_millions\", \"total_drug_cost_millions\"]\n",
    "\n",
    "# Boxplot for Feature Distributions\n",
    "plt.figure(figsize=(15, 5))\n",
    "for i, feature in enumerate(features, start=1):\n",
    "    plt.subplot(1, 3, i)\n",
    "    sns.boxplot(x=\"label\", y=feature, data=pandas_data_with_weights, palette=palette)\n",
    "    plt.title(f\"Distribution of {feature}\")\n",
    "    plt.xlabel(\"Label\")\n",
    "    plt.ylabel(feature)\n",
    "plt.tight_layout()\n",
    "plt.show()\n"
   ]
  },
  {
   "cell_type": "markdown",
   "metadata": {
    "id": "cVb4f7SMmZZO"
   },
   "source": [
    "# Interpretation\n",
    "\n",
    "\n",
    "*   Fraud cases (red) have higher claim counts compared to non-fraud cases\n",
    "*   Fraud cases show a wider spread and has more outliers\n",
    "*   Fraud cases have significantly higher drug costs compared to non-fraud cases\n",
    "\n",
    "\n",
    "\n"
   ]
  },
  {
   "cell_type": "markdown",
   "metadata": {
    "id": "E7HINFE9nGyM"
   },
   "source": [
    "# Correlation Heatmap"
   ]
  },
  {
   "cell_type": "code",
   "execution_count": null,
   "metadata": {
    "colab": {
     "background_save": true
    },
    "id": "dLUKumXJDcW0",
    "outputId": "8e2da490-15a0-4b3c-f2f1-24fbd4a2c1e1"
   },
   "outputs": [
    {
     "data": {
      "image/png": "[encoded data removed]",
      "text/plain": [
       "<Figure size 800x600 with 2 Axes>"
      ]
     },
     "metadata": {},
     "output_type": "display_data"
    }
   ],
   "source": [
    "\n",
    "# Correlation Heatmap\n",
    "correlation_matrix = pandas_data_with_weights.drop(\"label\", axis=1).corr()\n",
    "\n",
    "# Plotting\n",
    "plt.figure(figsize=(8, 6))\n",
    "sns.heatmap(correlation_matrix, annot=True, cmap=\"coolwarm\", fmt=\".2f\")\n",
    "plt.title(\"Correlation Between Features\")\n",
    "plt.show()\n"
   ]
  },
  {
   "cell_type": "markdown",
   "metadata": {
    "id": "lWmXy0tfnV6w"
   },
   "source": [
    "# Interpretation\n",
    "\n",
    "*   Strong Positive Correlation: total_claim_count_millions and total_day_supply_millions have a very high positive correlation (0.97) which indicates that as the claim count increases, the day supply tends to increase.\n",
    "\n",
    "*    Moderate Positive Correlation: total_drug_cost_millions and class_weight have a moderate positive correlation (0.62) which indicates that as the class weights are influenced by total drug costs, due to the need to balance the model for high cost claims.\n",
    "*   Weak Correlation: class_weight and total_claim_count_millions have a low correlation of (0.21) which shows that class weights are not strongly influenced by the number of claims alone.\n",
    "\n",
    "*   Weak Correlation:total_day_supply_millions and class_weight shows weak correlation of (0.18) which iImplies minimal direct relationship between total day supply and class weights.\n",
    "\n",
    "\n"
   ]
  },
  {
   "cell_type": "markdown",
   "metadata": {
    "id": "hISyVud7m_5t"
   },
   "source": [
    "# Installing Tensorflow"
   ]
  },
  {
   "cell_type": "code",
   "execution_count": null,
   "metadata": {
    "colab": {
     "background_save": true
    },
    "id": "orcD6khODcW0",
    "outputId": "5cf39037-df2c-4492-e08c-a3bc8fcb57f0"
   },
   "outputs": [
    {
     "name": "stdout",
     "output_type": "stream",
     "text": [
      "Requirement already satisfied: tensorflow in /Library/Frameworks/Python.framework/Versions/3.12/lib/python3.12/site-packages (2.18.0)\n",
      "Requirement already satisfied: absl-py>=1.0.0 in /Library/Frameworks/Python.framework/Versions/3.12/lib/python3.12/site-packages (from tensorflow) (2.1.0)\n",
      "Requirement already satisfied: astunparse>=1.6.0 in /Library/Frameworks/Python.framework/Versions/3.12/lib/python3.12/site-packages (from tensorflow) (1.6.3)\n",
      "Requirement already satisfied: flatbuffers>=24.3.25 in /Library/Frameworks/Python.framework/Versions/3.12/lib/python3.12/site-packages (from tensorflow) (24.3.25)\n",
      "Requirement already satisfied: gast!=0.5.0,!=0.5.1,!=0.5.2,>=0.2.1 in /Library/Frameworks/Python.framework/Versions/3.12/lib/python3.12/site-packages (from tensorflow) (0.6.0)\n",
      "Requirement already satisfied: google-pasta>=0.1.1 in /Library/Frameworks/Python.framework/Versions/3.12/lib/python3.12/site-packages (from tensorflow) (0.2.0)\n",
      "Requirement already satisfied: libclang>=13.0.0 in /Library/Frameworks/Python.framework/Versions/3.12/lib/python3.12/site-packages (from tensorflow) (18.1.1)\n",
      "Requirement already satisfied: opt-einsum>=2.3.2 in /Library/Frameworks/Python.framework/Versions/3.12/lib/python3.12/site-packages (from tensorflow) (3.4.0)\n",
      "Requirement already satisfied: packaging in /Users/dherya.agarwal/Library/Python/3.12/lib/python/site-packages (from tensorflow) (23.2)\n",
      "Requirement already satisfied: protobuf!=4.21.0,!=4.21.1,!=4.21.2,!=4.21.3,!=4.21.4,!=4.21.5,<6.0.0dev,>=3.20.3 in /Library/Frameworks/Python.framework/Versions/3.12/lib/python3.12/site-packages (from tensorflow) (5.29.1)\n",
      "Requirement already satisfied: requests<3,>=2.21.0 in /Library/Frameworks/Python.framework/Versions/3.12/lib/python3.12/site-packages (from tensorflow) (2.31.0)\n",
      "Requirement already satisfied: setuptools in /Library/Frameworks/Python.framework/Versions/3.12/lib/python3.12/site-packages (from tensorflow) (75.6.0)\n",
      "Requirement already satisfied: six>=1.12.0 in /Users/dherya.agarwal/Library/Python/3.12/lib/python/site-packages (from tensorflow) (1.16.0)\n",
      "Requirement already satisfied: termcolor>=1.1.0 in /Library/Frameworks/Python.framework/Versions/3.12/lib/python3.12/site-packages (from tensorflow) (2.5.0)\n",
      "Requirement already satisfied: typing-extensions>=3.6.6 in /Library/Frameworks/Python.framework/Versions/3.12/lib/python3.12/site-packages (from tensorflow) (4.11.0)\n",
      "Requirement already satisfied: wrapt>=1.11.0 in /Library/Frameworks/Python.framework/Versions/3.12/lib/python3.12/site-packages (from tensorflow) (1.17.0)\n",
      "Requirement already satisfied: grpcio<2.0,>=1.24.3 in /Library/Frameworks/Python.framework/Versions/3.12/lib/python3.12/site-packages (from tensorflow) (1.68.1)\n",
      "Requirement already satisfied: tensorboard<2.19,>=2.18 in /Library/Frameworks/Python.framework/Versions/3.12/lib/python3.12/site-packages (from tensorflow) (2.18.0)\n",
      "Requirement already satisfied: keras>=3.5.0 in /Library/Frameworks/Python.framework/Versions/3.12/lib/python3.12/site-packages (from tensorflow) (3.7.0)\n",
      "Requirement already satisfied: numpy<2.1.0,>=1.26.0 in /Library/Frameworks/Python.framework/Versions/3.12/lib/python3.12/site-packages (from tensorflow) (1.26.4)\n",
      "Requirement already satisfied: h5py>=3.11.0 in /Library/Frameworks/Python.framework/Versions/3.12/lib/python3.12/site-packages (from tensorflow) (3.12.1)\n",
      "Requirement already satisfied: ml-dtypes<0.5.0,>=0.4.0 in /Library/Frameworks/Python.framework/Versions/3.12/lib/python3.12/site-packages (from tensorflow) (0.4.1)\n",
      "Requirement already satisfied: wheel<1.0,>=0.23.0 in /Library/Frameworks/Python.framework/Versions/3.12/lib/python3.12/site-packages (from astunparse>=1.6.0->tensorflow) (0.45.1)\n",
      "Requirement already satisfied: rich in /Library/Frameworks/Python.framework/Versions/3.12/lib/python3.12/site-packages (from keras>=3.5.0->tensorflow) (13.9.4)\n",
      "Requirement already satisfied: namex in /Library/Frameworks/Python.framework/Versions/3.12/lib/python3.12/site-packages (from keras>=3.5.0->tensorflow) (0.0.8)\n",
      "Requirement already satisfied: optree in /Library/Frameworks/Python.framework/Versions/3.12/lib/python3.12/site-packages (from keras>=3.5.0->tensorflow) (0.13.1)\n",
      "Requirement already satisfied: charset-normalizer<4,>=2 in /Library/Frameworks/Python.framework/Versions/3.12/lib/python3.12/site-packages (from requests<3,>=2.21.0->tensorflow) (3.3.2)\n",
      "Requirement already satisfied: idna<4,>=2.5 in /Library/Frameworks/Python.framework/Versions/3.12/lib/python3.12/site-packages (from requests<3,>=2.21.0->tensorflow) (3.7)\n",
      "Requirement already satisfied: urllib3<3,>=1.21.1 in /Library/Frameworks/Python.framework/Versions/3.12/lib/python3.12/site-packages (from requests<3,>=2.21.0->tensorflow) (2.2.1)\n",
      "Requirement already satisfied: certifi>=2017.4.17 in /Library/Frameworks/Python.framework/Versions/3.12/lib/python3.12/site-packages (from requests<3,>=2.21.0->tensorflow) (2024.2.2)\n",
      "Requirement already satisfied: markdown>=2.6.8 in /Library/Frameworks/Python.framework/Versions/3.12/lib/python3.12/site-packages (from tensorboard<2.19,>=2.18->tensorflow) (3.7)\n",
      "Requirement already satisfied: tensorboard-data-server<0.8.0,>=0.7.0 in /Library/Frameworks/Python.framework/Versions/3.12/lib/python3.12/site-packages (from tensorboard<2.19,>=2.18->tensorflow) (0.7.2)\n",
      "Requirement already satisfied: werkzeug>=1.0.1 in /Library/Frameworks/Python.framework/Versions/3.12/lib/python3.12/site-packages (from tensorboard<2.19,>=2.18->tensorflow) (3.1.3)\n",
      "Requirement already satisfied: MarkupSafe>=2.1.1 in /Library/Frameworks/Python.framework/Versions/3.12/lib/python3.12/site-packages (from werkzeug>=1.0.1->tensorboard<2.19,>=2.18->tensorflow) (2.1.5)\n",
      "Requirement already satisfied: markdown-it-py>=2.2.0 in /Library/Frameworks/Python.framework/Versions/3.12/lib/python3.12/site-packages (from rich->keras>=3.5.0->tensorflow) (3.0.0)\n",
      "Requirement already satisfied: pygments<3.0.0,>=2.13.0 in /Users/dherya.agarwal/Library/Python/3.12/lib/python/site-packages (from rich->keras>=3.5.0->tensorflow) (2.17.2)\n",
      "Requirement already satisfied: mdurl~=0.1 in /Library/Frameworks/Python.framework/Versions/3.12/lib/python3.12/site-packages (from markdown-it-py>=2.2.0->rich->keras>=3.5.0->tensorflow) (0.1.2)\n",
      "\n",
      "\u001b[1m[\u001b[0m\u001b[34;49mnotice\u001b[0m\u001b[1;39;49m]\u001b[0m\u001b[39;49m A new release of pip is available: \u001b[0m\u001b[31;49m24.0\u001b[0m\u001b[39;49m -> \u001b[0m\u001b[32;49m24.3.1\u001b[0m\n",
      "\u001b[1m[\u001b[0m\u001b[34;49mnotice\u001b[0m\u001b[1;39;49m]\u001b[0m\u001b[39;49m To update, run: \u001b[0m\u001b[32;49mpip3 install --upgrade pip\u001b[0m\n"
     ]
    }
   ],
   "source": [
    "\n",
    "!pip3 install tensorflow\n"
   ]
  },
  {
   "cell_type": "markdown",
   "metadata": {
    "id": "yg-AqSvfot54"
   },
   "source": [
    "# Anomaly Detection Using Autoencoder\n"
   ]
  },
  {
   "cell_type": "code",
   "execution_count": null,
   "metadata": {
    "colab": {
     "background_save": true
    },
    "id": "bo_jN8BDDcW1",
    "outputId": "b73b008f-dd05-4255-b31e-09dac11a6834"
   },
   "outputs": [
    {
     "name": "stderr",
     "output_type": "stream",
     "text": [
      "                                                                                \r"
     ]
    },
    {
     "data": {
      "text/html": [
       "<pre style=\"white-space:pre;overflow-x:auto;line-height:normal;font-family:Menlo,'DejaVu Sans Mono',consolas,'Courier New',monospace\"><span style=\"font-weight: bold\">Model: \"functional\"</span>\n",
       "</pre>\n"
      ],
      "text/plain": [
       "\u001b[1mModel: \"functional\"\u001b[0m\n"
      ]
     },
     "metadata": {},
     "output_type": "display_data"
    },
    {
     "data": {
      "text/html": [
       "<pre style=\"white-space:pre;overflow-x:auto;line-height:normal;font-family:Menlo,'DejaVu Sans Mono',consolas,'Courier New',monospace\">┏━━━━━━━━━━━━━━━━━━━━━━━━━━━━━━━━━┳━━━━━━━━━━━━━━━━━━━━━━━━┳━━━━━━━━━━━━━━━┓\n",
       "┃<span style=\"font-weight: bold\"> Layer (type)                    </span>┃<span style=\"font-weight: bold\"> Output Shape           </span>┃<span style=\"font-weight: bold\">       Param # </span>┃\n",
       "┡━━━━━━━━━━━━━━━━━━━━━━━━━━━━━━━━━╇━━━━━━━━━━━━━━━━━━━━━━━━╇━━━━━━━━━━━━━━━┩\n",
       "│ input_layer (<span style=\"color: #0087ff; text-decoration-color: #0087ff\">InputLayer</span>)        │ (<span style=\"color: #00d7ff; text-decoration-color: #00d7ff\">None</span>, <span style=\"color: #00af00; text-decoration-color: #00af00\">3</span>)              │             <span style=\"color: #00af00; text-decoration-color: #00af00\">0</span> │\n",
       "├─────────────────────────────────┼────────────────────────┼───────────────┤\n",
       "│ dense (<span style=\"color: #0087ff; text-decoration-color: #0087ff\">Dense</span>)                   │ (<span style=\"color: #00d7ff; text-decoration-color: #00d7ff\">None</span>, <span style=\"color: #00af00; text-decoration-color: #00af00\">16</span>)             │            <span style=\"color: #00af00; text-decoration-color: #00af00\">64</span> │\n",
       "├─────────────────────────────────┼────────────────────────┼───────────────┤\n",
       "│ dense_1 (<span style=\"color: #0087ff; text-decoration-color: #0087ff\">Dense</span>)                 │ (<span style=\"color: #00d7ff; text-decoration-color: #00d7ff\">None</span>, <span style=\"color: #00af00; text-decoration-color: #00af00\">8</span>)              │           <span style=\"color: #00af00; text-decoration-color: #00af00\">136</span> │\n",
       "├─────────────────────────────────┼────────────────────────┼───────────────┤\n",
       "│ dense_2 (<span style=\"color: #0087ff; text-decoration-color: #0087ff\">Dense</span>)                 │ (<span style=\"color: #00d7ff; text-decoration-color: #00d7ff\">None</span>, <span style=\"color: #00af00; text-decoration-color: #00af00\">4</span>)              │            <span style=\"color: #00af00; text-decoration-color: #00af00\">36</span> │\n",
       "├─────────────────────────────────┼────────────────────────┼───────────────┤\n",
       "│ dense_3 (<span style=\"color: #0087ff; text-decoration-color: #0087ff\">Dense</span>)                 │ (<span style=\"color: #00d7ff; text-decoration-color: #00d7ff\">None</span>, <span style=\"color: #00af00; text-decoration-color: #00af00\">8</span>)              │            <span style=\"color: #00af00; text-decoration-color: #00af00\">40</span> │\n",
       "├─────────────────────────────────┼────────────────────────┼───────────────┤\n",
       "│ dense_4 (<span style=\"color: #0087ff; text-decoration-color: #0087ff\">Dense</span>)                 │ (<span style=\"color: #00d7ff; text-decoration-color: #00d7ff\">None</span>, <span style=\"color: #00af00; text-decoration-color: #00af00\">16</span>)             │           <span style=\"color: #00af00; text-decoration-color: #00af00\">144</span> │\n",
       "├─────────────────────────────────┼────────────────────────┼───────────────┤\n",
       "│ dense_5 (<span style=\"color: #0087ff; text-decoration-color: #0087ff\">Dense</span>)                 │ (<span style=\"color: #00d7ff; text-decoration-color: #00d7ff\">None</span>, <span style=\"color: #00af00; text-decoration-color: #00af00\">3</span>)              │            <span style=\"color: #00af00; text-decoration-color: #00af00\">51</span> │\n",
       "└─────────────────────────────────┴────────────────────────┴───────────────┘\n",
       "</pre>\n"
      ],
      "text/plain": [
       "┏━━━━━━━━━━━━━━━━━━━━━━━━━━━━━━━━━┳━━━━━━━━━━━━━━━━━━━━━━━━┳━━━━━━━━━━━━━━━┓\n",
       "┃\u001b[1m \u001b[0m\u001b[1mLayer (type)                   \u001b[0m\u001b[1m \u001b[0m┃\u001b[1m \u001b[0m\u001b[1mOutput Shape          \u001b[0m\u001b[1m \u001b[0m┃\u001b[1m \u001b[0m\u001b[1m      Param #\u001b[0m\u001b[1m \u001b[0m┃\n",
       "┡━━━━━━━━━━━━━━━━━━━━━━━━━━━━━━━━━╇━━━━━━━━━━━━━━━━━━━━━━━━╇━━━━━━━━━━━━━━━┩\n",
       "│ input_layer (\u001b[38;5;33mInputLayer\u001b[0m)        │ (\u001b[38;5;45mNone\u001b[0m, \u001b[38;5;34m3\u001b[0m)              │             \u001b[38;5;34m0\u001b[0m │\n",
       "├─────────────────────────────────┼────────────────────────┼───────────────┤\n",
       "│ dense (\u001b[38;5;33mDense\u001b[0m)                   │ (\u001b[38;5;45mNone\u001b[0m, \u001b[38;5;34m16\u001b[0m)             │            \u001b[38;5;34m64\u001b[0m │\n",
       "├─────────────────────────────────┼────────────────────────┼───────────────┤\n",
       "│ dense_1 (\u001b[38;5;33mDense\u001b[0m)                 │ (\u001b[38;5;45mNone\u001b[0m, \u001b[38;5;34m8\u001b[0m)              │           \u001b[38;5;34m136\u001b[0m │\n",
       "├─────────────────────────────────┼────────────────────────┼───────────────┤\n",
       "│ dense_2 (\u001b[38;5;33mDense\u001b[0m)                 │ (\u001b[38;5;45mNone\u001b[0m, \u001b[38;5;34m4\u001b[0m)              │            \u001b[38;5;34m36\u001b[0m │\n",
       "├─────────────────────────────────┼────────────────────────┼───────────────┤\n",
       "│ dense_3 (\u001b[38;5;33mDense\u001b[0m)                 │ (\u001b[38;5;45mNone\u001b[0m, \u001b[38;5;34m8\u001b[0m)              │            \u001b[38;5;34m40\u001b[0m │\n",
       "├─────────────────────────────────┼────────────────────────┼───────────────┤\n",
       "│ dense_4 (\u001b[38;5;33mDense\u001b[0m)                 │ (\u001b[38;5;45mNone\u001b[0m, \u001b[38;5;34m16\u001b[0m)             │           \u001b[38;5;34m144\u001b[0m │\n",
       "├─────────────────────────────────┼────────────────────────┼───────────────┤\n",
       "│ dense_5 (\u001b[38;5;33mDense\u001b[0m)                 │ (\u001b[38;5;45mNone\u001b[0m, \u001b[38;5;34m3\u001b[0m)              │            \u001b[38;5;34m51\u001b[0m │\n",
       "└─────────────────────────────────┴────────────────────────┴───────────────┘\n"
      ]
     },
     "metadata": {},
     "output_type": "display_data"
    },
    {
     "data": {
      "text/html": [
       "<pre style=\"white-space:pre;overflow-x:auto;line-height:normal;font-family:Menlo,'DejaVu Sans Mono',consolas,'Courier New',monospace\"><span style=\"font-weight: bold\"> Total params: </span><span style=\"color: #00af00; text-decoration-color: #00af00\">471</span> (1.84 KB)\n",
       "</pre>\n"
      ],
      "text/plain": [
       "\u001b[1m Total params: \u001b[0m\u001b[38;5;34m471\u001b[0m (1.84 KB)\n"
      ]
     },
     "metadata": {},
     "output_type": "display_data"
    },
    {
     "data": {
      "text/html": [
       "<pre style=\"white-space:pre;overflow-x:auto;line-height:normal;font-family:Menlo,'DejaVu Sans Mono',consolas,'Courier New',monospace\"><span style=\"font-weight: bold\"> Trainable params: </span><span style=\"color: #00af00; text-decoration-color: #00af00\">471</span> (1.84 KB)\n",
       "</pre>\n"
      ],
      "text/plain": [
       "\u001b[1m Trainable params: \u001b[0m\u001b[38;5;34m471\u001b[0m (1.84 KB)\n"
      ]
     },
     "metadata": {},
     "output_type": "display_data"
    },
    {
     "data": {
      "text/html": [
       "<pre style=\"white-space:pre;overflow-x:auto;line-height:normal;font-family:Menlo,'DejaVu Sans Mono',consolas,'Courier New',monospace\"><span style=\"font-weight: bold\"> Non-trainable params: </span><span style=\"color: #00af00; text-decoration-color: #00af00\">0</span> (0.00 B)\n",
       "</pre>\n"
      ],
      "text/plain": [
       "\u001b[1m Non-trainable params: \u001b[0m\u001b[38;5;34m0\u001b[0m (0.00 B)\n"
      ]
     },
     "metadata": {},
     "output_type": "display_data"
    },
    {
     "name": "stdout",
     "output_type": "stream",
     "text": [
      "Epoch 1/50\n",
      "\u001b[1m44/44\u001b[0m \u001b[32m━━━━━━━━━━━━━━━━━━━━\u001b[0m\u001b[37m\u001b[0m \u001b[1m1s\u001b[0m 2ms/step - loss: 1.4089 - val_loss: 0.1166\n",
      "Epoch 2/50\n",
      "\u001b[1m44/44\u001b[0m \u001b[32m━━━━━━━━━━━━━━━━━━━━\u001b[0m\u001b[37m\u001b[0m \u001b[1m0s\u001b[0m 1ms/step - loss: 1.3145 - val_loss: 0.1015\n",
      "Epoch 3/50\n",
      "\u001b[1m44/44\u001b[0m \u001b[32m━━━━━━━━━━━━━━━━━━━━\u001b[0m\u001b[37m\u001b[0m \u001b[1m0s\u001b[0m 964us/step - loss: 0.6816 - val_loss: 0.0787\n",
      "Epoch 4/50\n",
      "\u001b[1m44/44\u001b[0m \u001b[32m━━━━━━━━━━━━━━━━━━━━\u001b[0m\u001b[37m\u001b[0m \u001b[1m0s\u001b[0m 976us/step - loss: 0.5029 - val_loss: 0.0727\n",
      "Epoch 5/50\n",
      "\u001b[1m44/44\u001b[0m \u001b[32m━━━━━━━━━━━━━━━━━━━━\u001b[0m\u001b[37m\u001b[0m \u001b[1m0s\u001b[0m 974us/step - loss: 0.2616 - val_loss: 0.0542\n",
      "Epoch 6/50\n",
      "\u001b[1m44/44\u001b[0m \u001b[32m━━━━━━━━━━━━━━━━━━━━\u001b[0m\u001b[37m\u001b[0m \u001b[1m0s\u001b[0m 975us/step - loss: 0.1233 - val_loss: 0.0342\n",
      "Epoch 7/50\n",
      "\u001b[1m44/44\u001b[0m \u001b[32m━━━━━━━━━━━━━━━━━━━━\u001b[0m\u001b[37m\u001b[0m \u001b[1m0s\u001b[0m 961us/step - loss: 0.1172 - val_loss: 0.0189\n",
      "Epoch 8/50\n",
      "\u001b[1m44/44\u001b[0m \u001b[32m━━━━━━━━━━━━━━━━━━━━\u001b[0m\u001b[37m\u001b[0m \u001b[1m0s\u001b[0m 951us/step - loss: 0.0504 - val_loss: 0.0106\n",
      "Epoch 9/50\n",
      "\u001b[1m44/44\u001b[0m \u001b[32m━━━━━━━━━━━━━━━━━━━━\u001b[0m\u001b[37m\u001b[0m \u001b[1m0s\u001b[0m 932us/step - loss: 0.0215 - val_loss: 0.0071\n",
      "Epoch 10/50\n",
      "\u001b[1m44/44\u001b[0m \u001b[32m━━━━━━━━━━━━━━━━━━━━\u001b[0m\u001b[37m\u001b[0m \u001b[1m0s\u001b[0m 945us/step - loss: 0.0166 - val_loss: 0.0061\n",
      "Epoch 11/50\n",
      "\u001b[1m44/44\u001b[0m \u001b[32m━━━━━━━━━━━━━━━━━━━━\u001b[0m\u001b[37m\u001b[0m \u001b[1m0s\u001b[0m 940us/step - loss: 0.0143 - val_loss: 0.0054\n",
      "Epoch 12/50\n",
      "\u001b[1m44/44\u001b[0m \u001b[32m━━━━━━━━━━━━━━━━━━━━\u001b[0m\u001b[37m\u001b[0m \u001b[1m0s\u001b[0m 932us/step - loss: 0.0141 - val_loss: 0.0058\n",
      "Epoch 13/50\n",
      "\u001b[1m44/44\u001b[0m \u001b[32m━━━━━━━━━━━━━━━━━━━━\u001b[0m\u001b[37m\u001b[0m \u001b[1m0s\u001b[0m 938us/step - loss: 0.0132 - val_loss: 0.0051\n",
      "Epoch 14/50\n",
      "\u001b[1m44/44\u001b[0m \u001b[32m━━━━━━━━━━━━━━━━━━━━\u001b[0m\u001b[37m\u001b[0m \u001b[1m0s\u001b[0m 939us/step - loss: 0.0138 - val_loss: 0.0047\n",
      "Epoch 15/50\n",
      "\u001b[1m44/44\u001b[0m \u001b[32m━━━━━━━━━━━━━━━━━━━━\u001b[0m\u001b[37m\u001b[0m \u001b[1m0s\u001b[0m 946us/step - loss: 0.0150 - val_loss: 0.0039\n",
      "Epoch 16/50\n",
      "\u001b[1m44/44\u001b[0m \u001b[32m━━━━━━━━━━━━━━━━━━━━\u001b[0m\u001b[37m\u001b[0m \u001b[1m0s\u001b[0m 953us/step - loss: 0.0105 - val_loss: 0.0045\n",
      "Epoch 17/50\n",
      "\u001b[1m44/44\u001b[0m \u001b[32m━━━━━━━━━━━━━━━━━━━━\u001b[0m\u001b[37m\u001b[0m \u001b[1m0s\u001b[0m 926us/step - loss: 0.0089 - val_loss: 0.0032\n",
      "Epoch 18/50\n",
      "\u001b[1m44/44\u001b[0m \u001b[32m━━━━━━━━━━━━━━━━━━━━\u001b[0m\u001b[37m\u001b[0m \u001b[1m0s\u001b[0m 928us/step - loss: 0.0140 - val_loss: 0.0034\n",
      "Epoch 19/50\n",
      "\u001b[1m44/44\u001b[0m \u001b[32m━━━━━━━━━━━━━━━━━━━━\u001b[0m\u001b[37m\u001b[0m \u001b[1m0s\u001b[0m 941us/step - loss: 0.0108 - val_loss: 0.0030\n",
      "Epoch 20/50\n",
      "\u001b[1m44/44\u001b[0m \u001b[32m━━━━━━━━━━━━━━━━━━━━\u001b[0m\u001b[37m\u001b[0m \u001b[1m0s\u001b[0m 938us/step - loss: 0.0113 - val_loss: 0.0047\n",
      "Epoch 21/50\n",
      "\u001b[1m44/44\u001b[0m \u001b[32m━━━━━━━━━━━━━━━━━━━━\u001b[0m\u001b[37m\u001b[0m \u001b[1m0s\u001b[0m 932us/step - loss: 0.0093 - val_loss: 0.0032\n",
      "Epoch 22/50\n",
      "\u001b[1m44/44\u001b[0m \u001b[32m━━━━━━━━━━━━━━━━━━━━\u001b[0m\u001b[37m\u001b[0m \u001b[1m0s\u001b[0m 935us/step - loss: 0.0091 - val_loss: 0.0045\n",
      "Epoch 23/50\n",
      "\u001b[1m44/44\u001b[0m \u001b[32m━━━━━━━━━━━━━━━━━━━━\u001b[0m\u001b[37m\u001b[0m \u001b[1m0s\u001b[0m 921us/step - loss: 0.0127 - val_loss: 0.0029\n",
      "Epoch 24/50\n",
      "\u001b[1m44/44\u001b[0m \u001b[32m━━━━━━━━━━━━━━━━━━━━\u001b[0m\u001b[37m\u001b[0m \u001b[1m0s\u001b[0m 940us/step - loss: 0.0127 - val_loss: 0.0038\n",
      "Epoch 25/50\n",
      "\u001b[1m44/44\u001b[0m \u001b[32m━━━━━━━━━━━━━━━━━━━━\u001b[0m\u001b[37m\u001b[0m \u001b[1m0s\u001b[0m 2ms/step - loss: 0.0083 - val_loss: 0.0035\n",
      "Epoch 26/50\n",
      "\u001b[1m44/44\u001b[0m \u001b[32m━━━━━━━━━━━━━━━━━━━━\u001b[0m\u001b[37m\u001b[0m \u001b[1m0s\u001b[0m 942us/step - loss: 0.0137 - val_loss: 0.0047\n",
      "Epoch 27/50\n",
      "\u001b[1m44/44\u001b[0m \u001b[32m━━━━━━━━━━━━━━━━━━━━\u001b[0m\u001b[37m\u001b[0m \u001b[1m0s\u001b[0m 932us/step - loss: 0.0095 - val_loss: 0.0032\n",
      "Epoch 28/50\n",
      "\u001b[1m44/44\u001b[0m \u001b[32m━━━━━━━━━━━━━━━━━━━━\u001b[0m\u001b[37m\u001b[0m \u001b[1m0s\u001b[0m 943us/step - loss: 0.0073 - val_loss: 0.0019\n",
      "Epoch 29/50\n",
      "\u001b[1m44/44\u001b[0m \u001b[32m━━━━━━━━━━━━━━━━━━━━\u001b[0m\u001b[37m\u001b[0m \u001b[1m0s\u001b[0m 948us/step - loss: 0.0121 - val_loss: 0.0024\n",
      "Epoch 30/50\n",
      "\u001b[1m44/44\u001b[0m \u001b[32m━━━━━━━━━━━━━━━━━━━━\u001b[0m\u001b[37m\u001b[0m \u001b[1m0s\u001b[0m 931us/step - loss: 0.0099 - val_loss: 0.0024\n",
      "Epoch 31/50\n",
      "\u001b[1m44/44\u001b[0m \u001b[32m━━━━━━━━━━━━━━━━━━━━\u001b[0m\u001b[37m\u001b[0m \u001b[1m0s\u001b[0m 935us/step - loss: 0.0082 - val_loss: 0.0024\n",
      "Epoch 32/50\n",
      "\u001b[1m44/44\u001b[0m \u001b[32m━━━━━━━━━━━━━━━━━━━━\u001b[0m\u001b[37m\u001b[0m \u001b[1m0s\u001b[0m 946us/step - loss: 0.0073 - val_loss: 0.0026\n",
      "Epoch 33/50\n",
      "\u001b[1m44/44\u001b[0m \u001b[32m━━━━━━━━━━━━━━━━━━━━\u001b[0m\u001b[37m\u001b[0m \u001b[1m0s\u001b[0m 956us/step - loss: 0.0074 - val_loss: 0.0024\n",
      "Epoch 34/50\n",
      "\u001b[1m44/44\u001b[0m \u001b[32m━━━━━━━━━━━━━━━━━━━━\u001b[0m\u001b[37m\u001b[0m \u001b[1m0s\u001b[0m 936us/step - loss: 0.0063 - val_loss: 0.0020\n",
      "Epoch 35/50\n",
      "\u001b[1m44/44\u001b[0m \u001b[32m━━━━━━━━━━━━━━━━━━━━\u001b[0m\u001b[37m\u001b[0m \u001b[1m0s\u001b[0m 943us/step - loss: 0.0088 - val_loss: 0.0016\n",
      "Epoch 36/50\n",
      "\u001b[1m44/44\u001b[0m \u001b[32m━━━━━━━━━━━━━━━━━━━━\u001b[0m\u001b[37m\u001b[0m \u001b[1m0s\u001b[0m 953us/step - loss: 0.0085 - val_loss: 0.0017\n",
      "Epoch 37/50\n",
      "\u001b[1m44/44\u001b[0m \u001b[32m━━━━━━━━━━━━━━━━━━━━\u001b[0m\u001b[37m\u001b[0m \u001b[1m0s\u001b[0m 936us/step - loss: 0.0084 - val_loss: 0.0015\n",
      "Epoch 38/50\n",
      "\u001b[1m44/44\u001b[0m \u001b[32m━━━━━━━━━━━━━━━━━━━━\u001b[0m\u001b[37m\u001b[0m \u001b[1m0s\u001b[0m 947us/step - loss: 0.0068 - val_loss: 0.0015\n",
      "Epoch 39/50\n",
      "\u001b[1m44/44\u001b[0m \u001b[32m━━━━━━━━━━━━━━━━━━━━\u001b[0m\u001b[37m\u001b[0m \u001b[1m0s\u001b[0m 940us/step - loss: 0.0064 - val_loss: 0.0014\n",
      "Epoch 40/50\n",
      "\u001b[1m44/44\u001b[0m \u001b[32m━━━━━━━━━━━━━━━━━━━━\u001b[0m\u001b[37m\u001b[0m \u001b[1m0s\u001b[0m 974us/step - loss: 0.0087 - val_loss: 0.0014\n",
      "Epoch 41/50\n",
      "\u001b[1m44/44\u001b[0m \u001b[32m━━━━━━━━━━━━━━━━━━━━\u001b[0m\u001b[37m\u001b[0m \u001b[1m0s\u001b[0m 948us/step - loss: 0.0105 - val_loss: 0.0014\n",
      "Epoch 42/50\n",
      "\u001b[1m44/44\u001b[0m \u001b[32m━━━━━━━━━━━━━━━━━━━━\u001b[0m\u001b[37m\u001b[0m \u001b[1m0s\u001b[0m 949us/step - loss: 0.0088 - val_loss: 0.0014\n",
      "Epoch 43/50\n",
      "\u001b[1m44/44\u001b[0m \u001b[32m━━━━━━━━━━━━━━━━━━━━\u001b[0m\u001b[37m\u001b[0m \u001b[1m0s\u001b[0m 930us/step - loss: 0.0095 - val_loss: 0.0018\n",
      "Epoch 44/50\n",
      "\u001b[1m44/44\u001b[0m \u001b[32m━━━━━━━━━━━━━━━━━━━━\u001b[0m\u001b[37m\u001b[0m \u001b[1m0s\u001b[0m 927us/step - loss: 0.0075 - val_loss: 0.0012\n",
      "Epoch 45/50\n",
      "\u001b[1m44/44\u001b[0m \u001b[32m━━━━━━━━━━━━━━━━━━━━\u001b[0m\u001b[37m\u001b[0m \u001b[1m0s\u001b[0m 937us/step - loss: 0.0099 - val_loss: 0.0012\n",
      "Epoch 46/50\n",
      "\u001b[1m44/44\u001b[0m \u001b[32m━━━━━━━━━━━━━━━━━━━━\u001b[0m\u001b[37m\u001b[0m \u001b[1m0s\u001b[0m 939us/step - loss: 0.0057 - val_loss: 0.0011\n",
      "Epoch 47/50\n",
      "\u001b[1m44/44\u001b[0m \u001b[32m━━━━━━━━━━━━━━━━━━━━\u001b[0m\u001b[37m\u001b[0m \u001b[1m0s\u001b[0m 933us/step - loss: 0.0108 - val_loss: 0.0013\n",
      "Epoch 48/50\n",
      "\u001b[1m44/44\u001b[0m \u001b[32m━━━━━━━━━━━━━━━━━━━━\u001b[0m\u001b[37m\u001b[0m \u001b[1m0s\u001b[0m 937us/step - loss: 0.0074 - val_loss: 0.0013\n",
      "Epoch 49/50\n",
      "\u001b[1m44/44\u001b[0m \u001b[32m━━━━━━━━━━━━━━━━━━━━\u001b[0m\u001b[37m\u001b[0m \u001b[1m0s\u001b[0m 925us/step - loss: 0.0185 - val_loss: 0.0016\n",
      "Epoch 50/50\n",
      "\u001b[1m44/44\u001b[0m \u001b[32m━━━━━━━━━━━━━━━━━━━━\u001b[0m\u001b[37m\u001b[0m \u001b[1m0s\u001b[0m 936us/step - loss: 0.0080 - val_loss: 0.0017\n",
      "\u001b[1m55/55\u001b[0m \u001b[32m━━━━━━━━━━━━━━━━━━━━\u001b[0m\u001b[37m\u001b[0m \u001b[1m0s\u001b[0m 1ms/step\n",
      "Anomaly Detection Threshold: 0.1342\n"
     ]
    }
   ],
   "source": [
    "\n",
    "# Autoencoder for Anomaly Detection\n",
    "from pyspark.sql.functions import col\n",
    "from tensorflow.keras.models import Model\n",
    "from tensorflow.keras.layers import Input, Dense\n",
    "from tensorflow.keras.optimizers import Adam\n",
    "import numpy as np\n",
    "\n",
    "# Prepare the data\n",
    "features_pd = scaled_data.select(\"features_scaled\").toPandas()\n",
    "feature_array = features_pd[\"features_scaled\"].apply(lambda x: np.array(x)).tolist()\n",
    "feature_array = np.array(feature_array)\n",
    "\n",
    "# Autoencoder Architecture\n",
    "input_dim = feature_array.shape[1]\n",
    "input_layer = Input(shape=(input_dim,))\n",
    "encoder = Dense(16, activation=\"relu\")(input_layer)\n",
    "encoder = Dense(8, activation=\"relu\")(encoder)\n",
    "encoder = Dense(4, activation=\"relu\")(encoder)\n",
    "decoder = Dense(8, activation=\"relu\")(encoder)\n",
    "decoder = Dense(16, activation=\"relu\")(decoder)\n",
    "decoder = Dense(input_dim, activation=\"linear\")(decoder)\n",
    "autoencoder = Model(inputs=input_layer, outputs=decoder)\n",
    "\n",
    "# Compile the Autoencoder\n",
    "autoencoder.compile(optimizer=Adam(learning_rate=0.001), loss=\"mse\")\n",
    "autoencoder.summary()\n",
    "\n",
    "# Train the Autoencoder\n",
    "history = autoencoder.fit(feature_array, feature_array,\n",
    "                          epochs=50, batch_size=32, validation_split=0.2, verbose=1)\n",
    "\n",
    "# Reconstruction Errors\n",
    "reconstructions = autoencoder.predict(feature_array)\n",
    "mse = np.mean(np.square(reconstructions - feature_array), axis=1)\n",
    "\n",
    "# Set an anomaly threshold (e.g., mean + 2*std)\n",
    "threshold = mse.mean() + 2 * mse.std()\n",
    "print(f\"Anomaly Detection Threshold: {threshold:.4f}\")\n",
    "\n",
    "# Identify anomalies\n",
    "anomalies = mse > threshold\n",
    "features_pd[\"anomaly\"] = anomalies.astype(int)\n"
   ]
  },
  {
   "cell_type": "markdown",
   "metadata": {
    "id": "r58RKszApJLD"
   },
   "source": [
    "# Visualization of Reconstruction Error"
   ]
  },
  {
   "cell_type": "code",
   "execution_count": null,
   "metadata": {
    "colab": {
     "background_save": true
    },
    "id": "rurZtZUDDcW1",
    "outputId": "d4aa1f1e-68dd-426b-8686-1e8e394e3172"
   },
   "outputs": [
    {
     "data": {
      "image/png": "[encoded data removed]",
      "text/plain": [
       "<Figure size 800x600 with 1 Axes>"
      ]
     },
     "metadata": {},
     "output_type": "display_data"
    }
   ],
   "source": [
    "import matplotlib.pyplot as plt\n",
    "\n",
    "# Plotting reconstruction error distribution\n",
    "plt.figure(figsize=(8, 6))\n",
    "plt.hist(mse, bins=50, alpha=0.7, color='blue', label=\"Reconstruction Error\")\n",
    "plt.axvline(threshold, color='red', linestyle='--', label=\"Anomaly Threshold\")\n",
    "plt.title(\"Reconstruction Error Distribution\")\n",
    "plt.xlabel(\"Mean Squared Error\")\n",
    "plt.ylabel(\"Frequency\")\n",
    "plt.legend()\n",
    "plt.show()\n"
   ]
  },
  {
   "cell_type": "markdown",
   "metadata": {
    "id": "1DPLXcKJqPV_"
   },
   "source": [
    "# Interpretation\n",
    "\n",
    "*   Most of the data points have low reconstruction errors, falling to the left of the threshold.\n",
    "*   Data points to the right of the red line have reconstruction errors exceeding the threshold and are flagged as anomalies.\n",
    "\n"
   ]
  },
  {
   "cell_type": "markdown",
   "metadata": {
    "id": "-1u7N9jBrL4n"
   },
   "source": [
    "# Analyzing the Anomalies Detected"
   ]
  },
  {
   "cell_type": "code",
   "execution_count": null,
   "metadata": {
    "colab": {
     "background_save": true
    },
    "id": "YQGng3-cDcW2",
    "outputId": "23c0665f-3f9d-4702-cb6b-4dde3f7e735c"
   },
   "outputs": [
    {
     "data": {
      "image/png": "[encoded data removed]",
      "text/plain": [
       "<Figure size 1000x600 with 1 Axes>"
      ]
     },
     "metadata": {},
     "output_type": "display_data"
    }
   ],
   "source": [
    "\n",
    "\n",
    "import pandas as pd\n",
    "\n",
    "# Adding anomaly results to the dataset\n",
    "anomalies_df = pd.DataFrame(feature_array, columns=[\"Feature_\" + str(i) for i in range(feature_array.shape[1])])\n",
    "anomalies_df[\"Anomaly\"] = features_pd[\"anomaly\"]\n",
    "\n",
    "# Visualizing anomalies\n",
    "plt.figure(figsize=(10, 6))\n",
    "plt.scatter(anomalies_df.index, mse, c=anomalies_df[\"Anomaly\"], cmap=\"coolwarm\", alpha=0.8)\n",
    "plt.axhline(y=threshold, color=\"red\", linestyle=\"--\", label=\"Threshold\")\n",
    "plt.title(\"Anomalies Identified by Autoencoder\")\n",
    "plt.xlabel(\"Index\")\n",
    "plt.ylabel(\"Reconstruction Error\")\n",
    "plt.legend()\n",
    "plt.show()\n"
   ]
  },
  {
   "cell_type": "markdown",
   "metadata": {
    "id": "AGbkzcSJrV-_"
   },
   "source": [
    "# Interpretation\n",
    "\n",
    "Anomalies:\n",
    "\n",
    "*   Points with reconstruction errors significantly higher than the threshold are flagged as anomalies.\n",
    "*   These points are visually distinct and often outliers compared to the rest of the dataset.\n",
    "\n",
    "Normal Points:\n",
    "\n",
    "*   Most data points have low reconstruction errors, clustering below the threshold."
   ]
  },
  {
   "cell_type": "code",
   "execution_count": null,
   "metadata": {
    "colab": {
     "background_save": true
    },
    "id": "f1gH0jrhuK8Z"
   },
   "outputs": [],
   "source": []
  }
 ],
 "metadata": {
  "colab": {
   "provenance": []
  },
  "kernelspec": {
   "display_name": "Python 3",
   "name": "python3"
  },
  "language_info": {
   "codemirror_mode": {
    "name": "ipython",
    "version": 3
   },
   "file_extension": ".py",
   "mimetype": "text/x-python",
   "name": "python",
   "nbconvert_exporter": "python",
   "pygments_lexer": "ipython3",
   "version": "3.12.2"
  }
 },
 "nbformat": 4,
 "nbformat_minor": 0
}
